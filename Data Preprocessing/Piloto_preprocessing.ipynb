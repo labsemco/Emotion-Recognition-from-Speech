{
  "cells": [
    {
      "cell_type": "markdown",
      "source": [
        "# **LIBRERIAS**"
      ],
      "metadata": {
        "id": "9u-8pFUR9Sfu"
      }
    },
    {
      "cell_type": "code",
      "execution_count": null,
      "metadata": {
        "id": "DTa5zPKJJ0qE"
      },
      "outputs": [],
      "source": [
        "import pandas as pd\n",
        "from google.colab import data_table\n",
        "from google.colab import drive\n",
        "import numpy as np\n",
        "import os\n",
        "import librosa\n",
        "import scipy.io.wavfile as wav\n",
        "import scipy.signal as sg\n",
        "from scipy.fft import fft, fftfreq, fftshift\n",
        "import soundfile as sf\n",
        "import matplotlib.pyplot as plt\n",
        "from IPython.display import Audio\n",
        "import soundfile as sf\n",
        "import librosa.display\n",
        "import IPython.display as ipd"
      ]
    },
    {
      "cell_type": "code",
      "execution_count": null,
      "metadata": {
        "colab": {
          "base_uri": "https://localhost:8080/"
        },
        "id": "JBQl5ZPIKgWz",
        "outputId": "7bec6560-a192-4dcf-a083-cb3a1a58a921"
      },
      "outputs": [
        {
          "name": "stdout",
          "output_type": "stream",
          "text": [
            "Collecting noisereduce\n",
            "  Downloading noisereduce-3.0.3-py3-none-any.whl.metadata (14 kB)\n",
            "Requirement already satisfied: scipy in /usr/local/lib/python3.11/dist-packages (from noisereduce) (1.13.1)\n",
            "Requirement already satisfied: matplotlib in /usr/local/lib/python3.11/dist-packages (from noisereduce) (3.10.0)\n",
            "Requirement already satisfied: numpy in /usr/local/lib/python3.11/dist-packages (from noisereduce) (1.26.4)\n",
            "Requirement already satisfied: tqdm in /usr/local/lib/python3.11/dist-packages (from noisereduce) (4.67.1)\n",
            "Requirement already satisfied: joblib in /usr/local/lib/python3.11/dist-packages (from noisereduce) (1.4.2)\n",
            "Requirement already satisfied: contourpy>=1.0.1 in /usr/local/lib/python3.11/dist-packages (from matplotlib->noisereduce) (1.3.1)\n",
            "Requirement already satisfied: cycler>=0.10 in /usr/local/lib/python3.11/dist-packages (from matplotlib->noisereduce) (0.12.1)\n",
            "Requirement already satisfied: fonttools>=4.22.0 in /usr/local/lib/python3.11/dist-packages (from matplotlib->noisereduce) (4.56.0)\n",
            "Requirement already satisfied: kiwisolver>=1.3.1 in /usr/local/lib/python3.11/dist-packages (from matplotlib->noisereduce) (1.4.8)\n",
            "Requirement already satisfied: packaging>=20.0 in /usr/local/lib/python3.11/dist-packages (from matplotlib->noisereduce) (24.2)\n",
            "Requirement already satisfied: pillow>=8 in /usr/local/lib/python3.11/dist-packages (from matplotlib->noisereduce) (11.1.0)\n",
            "Requirement already satisfied: pyparsing>=2.3.1 in /usr/local/lib/python3.11/dist-packages (from matplotlib->noisereduce) (3.2.1)\n",
            "Requirement already satisfied: python-dateutil>=2.7 in /usr/local/lib/python3.11/dist-packages (from matplotlib->noisereduce) (2.8.2)\n",
            "Requirement already satisfied: six>=1.5 in /usr/local/lib/python3.11/dist-packages (from python-dateutil>=2.7->matplotlib->noisereduce) (1.17.0)\n",
            "Downloading noisereduce-3.0.3-py3-none-any.whl (22 kB)\n",
            "Installing collected packages: noisereduce\n",
            "Successfully installed noisereduce-3.0.3\n"
          ]
        }
      ],
      "source": [
        "!pip install noisereduce\n",
        "import noisereduce as nr"
      ]
    },
    {
      "cell_type": "code",
      "execution_count": null,
      "metadata": {
        "colab": {
          "base_uri": "https://localhost:8080/"
        },
        "id": "4nebUDvSKmyQ",
        "outputId": "d5acad8e-e92f-4db5-f564-634869f56420"
      },
      "outputs": [
        {
          "name": "stdout",
          "output_type": "stream",
          "text": [
            "Collecting pydub\n",
            "  Downloading pydub-0.25.1-py2.py3-none-any.whl.metadata (1.4 kB)\n",
            "Downloading pydub-0.25.1-py2.py3-none-any.whl (32 kB)\n",
            "Installing collected packages: pydub\n",
            "Successfully installed pydub-0.25.1\n",
            "Reading package lists... Done\n",
            "Building dependency tree... Done\n",
            "Reading state information... Done\n",
            "ffmpeg is already the newest version (7:4.4.2-0ubuntu0.22.04.1).\n",
            "0 upgraded, 0 newly installed, 0 to remove and 29 not upgraded.\n"
          ]
        }
      ],
      "source": [
        "#Instalar pydub\n",
        "!pip install pydub\n",
        "\n",
        "#Instalar ffmpeg\n",
        "!apt-get install -y ffmpeg"
      ]
    },
    {
      "cell_type": "code",
      "execution_count": null,
      "metadata": {
        "colab": {
          "base_uri": "https://localhost:8080/"
        },
        "id": "4N3Wzbi7KnhU",
        "outputId": "51c3d43c-c11f-4823-b0f4-7dd260ab6424"
      },
      "outputs": [
        {
          "name": "stdout",
          "output_type": "stream",
          "text": [
            "Collecting SpeechRecognition\n",
            "  Downloading SpeechRecognition-3.14.1-py3-none-any.whl.metadata (31 kB)\n",
            "Requirement already satisfied: typing-extensions in /usr/local/lib/python3.11/dist-packages (from SpeechRecognition) (4.12.2)\n",
            "Downloading SpeechRecognition-3.14.1-py3-none-any.whl (32.9 MB)\n",
            "\u001b[2K   \u001b[90m━━━━━━━━━━━━━━━━━━━━━━━━━━━━━━━━━━━━━━━━\u001b[0m \u001b[32m32.9/32.9 MB\u001b[0m \u001b[31m17.2 MB/s\u001b[0m eta \u001b[36m0:00:00\u001b[0m\n",
            "\u001b[?25hInstalling collected packages: SpeechRecognition\n",
            "Successfully installed SpeechRecognition-3.14.1\n"
          ]
        }
      ],
      "source": [
        "!pip install SpeechRecognition"
      ]
    },
    {
      "cell_type": "code",
      "execution_count": null,
      "metadata": {
        "colab": {
          "base_uri": "https://localhost:8080/"
        },
        "id": "2XKL_mqiKvYe",
        "outputId": "ccf85afb-7022-4e81-b0d5-11ccef159b86"
      },
      "outputs": [
        {
          "name": "stdout",
          "output_type": "stream",
          "text": [
            "Reading package lists... Done\n",
            "Building dependency tree... Done\n",
            "Reading state information... Done\n",
            "The following additional packages will be installed:\n",
            "  libportaudio2 libportaudiocpp0\n",
            "Suggested packages:\n",
            "  portaudio19-doc\n",
            "The following NEW packages will be installed:\n",
            "  libportaudio2 libportaudiocpp0 portaudio19-dev\n",
            "0 upgraded, 3 newly installed, 0 to remove and 29 not upgraded.\n",
            "Need to get 188 kB of archives.\n",
            "After this operation, 927 kB of additional disk space will be used.\n",
            "Get:1 http://archive.ubuntu.com/ubuntu jammy/universe amd64 libportaudio2 amd64 19.6.0-1.1 [65.3 kB]\n",
            "Get:2 http://archive.ubuntu.com/ubuntu jammy/universe amd64 libportaudiocpp0 amd64 19.6.0-1.1 [16.1 kB]\n",
            "Get:3 http://archive.ubuntu.com/ubuntu jammy/universe amd64 portaudio19-dev amd64 19.6.0-1.1 [106 kB]\n",
            "Fetched 188 kB in 1s (344 kB/s)\n",
            "Selecting previously unselected package libportaudio2:amd64.\n",
            "(Reading database ... 124947 files and directories currently installed.)\n",
            "Preparing to unpack .../libportaudio2_19.6.0-1.1_amd64.deb ...\n",
            "Unpacking libportaudio2:amd64 (19.6.0-1.1) ...\n",
            "Selecting previously unselected package libportaudiocpp0:amd64.\n",
            "Preparing to unpack .../libportaudiocpp0_19.6.0-1.1_amd64.deb ...\n",
            "Unpacking libportaudiocpp0:amd64 (19.6.0-1.1) ...\n",
            "Selecting previously unselected package portaudio19-dev:amd64.\n",
            "Preparing to unpack .../portaudio19-dev_19.6.0-1.1_amd64.deb ...\n",
            "Unpacking portaudio19-dev:amd64 (19.6.0-1.1) ...\n",
            "Setting up libportaudio2:amd64 (19.6.0-1.1) ...\n",
            "Setting up libportaudiocpp0:amd64 (19.6.0-1.1) ...\n",
            "Setting up portaudio19-dev:amd64 (19.6.0-1.1) ...\n",
            "Processing triggers for libc-bin (2.35-0ubuntu3.8) ...\n",
            "/sbin/ldconfig.real: /usr/local/lib/libur_adapter_level_zero.so.0 is not a symbolic link\n",
            "\n",
            "/sbin/ldconfig.real: /usr/local/lib/libtbbmalloc.so.2 is not a symbolic link\n",
            "\n",
            "/sbin/ldconfig.real: /usr/local/lib/libhwloc.so.15 is not a symbolic link\n",
            "\n",
            "/sbin/ldconfig.real: /usr/local/lib/libtcm.so.1 is not a symbolic link\n",
            "\n",
            "/sbin/ldconfig.real: /usr/local/lib/libtbb.so.12 is not a symbolic link\n",
            "\n",
            "/sbin/ldconfig.real: /usr/local/lib/libtbbbind_2_5.so.3 is not a symbolic link\n",
            "\n",
            "/sbin/ldconfig.real: /usr/local/lib/libur_adapter_opencl.so.0 is not a symbolic link\n",
            "\n",
            "/sbin/ldconfig.real: /usr/local/lib/libtbbmalloc_proxy.so.2 is not a symbolic link\n",
            "\n",
            "/sbin/ldconfig.real: /usr/local/lib/libur_loader.so.0 is not a symbolic link\n",
            "\n",
            "/sbin/ldconfig.real: /usr/local/lib/libumf.so.0 is not a symbolic link\n",
            "\n",
            "/sbin/ldconfig.real: /usr/local/lib/libtbbbind_2_0.so.3 is not a symbolic link\n",
            "\n",
            "/sbin/ldconfig.real: /usr/local/lib/libtbbbind.so.3 is not a symbolic link\n",
            "\n",
            "/sbin/ldconfig.real: /usr/local/lib/libtcm_debug.so.1 is not a symbolic link\n",
            "\n",
            "Collecting pyaudio\n",
            "  Downloading PyAudio-0.2.14.tar.gz (47 kB)\n",
            "\u001b[2K     \u001b[90m━━━━━━━━━━━━━━━━━━━━━━━━━━━━━━━━━━━━━━━━\u001b[0m \u001b[32m47.1/47.1 kB\u001b[0m \u001b[31m2.5 MB/s\u001b[0m eta \u001b[36m0:00:00\u001b[0m\n",
            "\u001b[?25h  Installing build dependencies ... \u001b[?25l\u001b[?25hdone\n",
            "  Getting requirements to build wheel ... \u001b[?25l\u001b[?25hdone\n",
            "  Preparing metadata (pyproject.toml) ... \u001b[?25l\u001b[?25hdone\n",
            "Building wheels for collected packages: pyaudio\n",
            "  Building wheel for pyaudio (pyproject.toml) ... \u001b[?25l\u001b[?25hdone\n",
            "  Created wheel for pyaudio: filename=pyaudio-0.2.14-cp311-cp311-linux_x86_64.whl size=67391 sha256=1f445f5d52f0bcb259195ae940d9e4ab103910444d58a3615fd18ec602b46d68\n",
            "  Stored in directory: /root/.cache/pip/wheels/80/b1/c1/67e4ef443de2665d86031d4760508094eab5de37d5d64d9c27\n",
            "Successfully built pyaudio\n",
            "Installing collected packages: pyaudio\n",
            "Successfully installed pyaudio-0.2.14\n"
          ]
        }
      ],
      "source": [
        "!apt-get install -y portaudio19-dev\n",
        "!pip install pyaudio"
      ]
    },
    {
      "cell_type": "code",
      "execution_count": null,
      "metadata": {
        "colab": {
          "base_uri": "https://localhost:8080/"
        },
        "id": "KbfuRlA9K0a2",
        "outputId": "656dda6b-2a5b-450e-a15d-98c024db83b0"
      },
      "outputs": [
        {
          "name": "stdout",
          "output_type": "stream",
          "text": [
            "Downloading...\n",
            "From (original): https://drive.google.com/uc?id=1amUoGZYgN5zHtn4W5-Ns9RYIOTkyXy5s\n",
            "From (redirected): https://drive.google.com/uc?id=1amUoGZYgN5zHtn4W5-Ns9RYIOTkyXy5s&confirm=t&uuid=014b11d8-3420-4192-86b8-b997b60f8dfb\n",
            "To: /content/ENSAYOS_PILOTO-20241129T063801Z-001.zip\n",
            "100% 426M/426M [00:04<00:00, 90.3MB/s]\n"
          ]
        }
      ],
      "source": [
        "!gdown 1amUoGZYgN5zHtn4W5-Ns9RYIOTkyXy5s"
      ]
    },
    {
      "cell_type": "code",
      "execution_count": null,
      "metadata": {
        "colab": {
          "base_uri": "https://localhost:8080/"
        },
        "id": "PTeN4zpdKr0E",
        "outputId": "311360f0-f65c-474a-a9e6-60608fcef28b"
      },
      "outputs": [
        {
          "name": "stdout",
          "output_type": "stream",
          "text": [
            "Archive:  ENSAYOS_PILOTO-20241129T063801Z-001.zip\n",
            "   creating: PILOTO/ENSAYOS_PILOTO/VIDEOS/\n",
            "  inflating: PILOTO/ENSAYOS_PILOTO/M8/240924_0106.wav  \n",
            "  inflating: PILOTO/ENSAYOS_PILOTO/M7/240924_0089.wav  \n",
            "  inflating: PILOTO/ENSAYOS_PILOTO/M7/240924_0092.wav  \n",
            "  inflating: PILOTO/ENSAYOS_PILOTO/M7/240924_0091.wav  \n",
            "  inflating: PILOTO/ENSAYOS_PILOTO/M7/240924_0099.wav  \n",
            "  inflating: PILOTO/ENSAYOS_PILOTO/M8/240924_0118.wav  \n",
            "  inflating: PILOTO/ENSAYOS_PILOTO/M7/240924_0090.wav  \n",
            "  inflating: PILOTO/ENSAYOS_PILOTO/M8/240924_0108.wav  \n",
            "  inflating: PILOTO/ENSAYOS_PILOTO/M7/240924_0098.wav  \n",
            "  inflating: PILOTO/ENSAYOS_PILOTO/M8/240924_0116.wav  \n",
            "  inflating: PILOTO/ENSAYOS_PILOTO/M7/240924_0102.wav  \n",
            "  inflating: PILOTO/ENSAYOS_PILOTO/M8/240924_0111.wav  \n",
            "  inflating: PILOTO/ENSAYOS_PILOTO/M7/240924_0104.wav  \n",
            "  inflating: PILOTO/ENSAYOS_PILOTO/M8/240924_0113.wav  \n",
            "  inflating: PILOTO/ENSAYOS_PILOTO/M8/240924_0114.wav  \n",
            "  inflating: PILOTO/ENSAYOS_PILOTO/M8/240924_0109.wav  \n",
            "  inflating: PILOTO/ENSAYOS_PILOTO/M8/240924_0112.wav  \n",
            "  inflating: PILOTO/ENSAYOS_PILOTO/M7/240924_0095.wav  \n",
            "  inflating: PILOTO/ENSAYOS_PILOTO/M8/240924_0115.wav  \n",
            "  inflating: PILOTO/ENSAYOS_PILOTO/M8/240924_0110.wav  \n",
            "  inflating: PILOTO/ENSAYOS_PILOTO/M7/240924_0093.wav  \n",
            "  inflating: PILOTO/ENSAYOS_PILOTO/M8/240924_0107.wav  \n",
            "  inflating: PILOTO/ENSAYOS_PILOTO/M7/240924_0094.wav  \n",
            "  inflating: PILOTO/ENSAYOS_PILOTO/M8/240924_0119.wav  \n",
            "  inflating: PILOTO/ENSAYOS_PILOTO/M7/240924_0096.wav  \n",
            "  inflating: PILOTO/ENSAYOS_PILOTO/M7/240924_0101.wav  \n",
            "  inflating: PILOTO/ENSAYOS_PILOTO/M8/240924_0120.wav  \n",
            "  inflating: PILOTO/ENSAYOS_PILOTO/M7/240924_0105.wav  \n",
            "  inflating: PILOTO/ENSAYOS_PILOTO/H6/240925_0239.wav  \n",
            "  inflating: PILOTO/ENSAYOS_PILOTO/M7/240924_0097.wav  \n",
            "  inflating: PILOTO/ENSAYOS_PILOTO/H6/240925_0246.wav  \n",
            "  inflating: PILOTO/ENSAYOS_PILOTO/M7/240924_0100.wav  \n",
            "  inflating: PILOTO/ENSAYOS_PILOTO/H6/240925_0247.wav  \n",
            "  inflating: PILOTO/ENSAYOS_PILOTO/H6/240925_0242.wav  \n",
            "  inflating: PILOTO/ENSAYOS_PILOTO/H6/240925_0240.wav  \n",
            "  inflating: PILOTO/ENSAYOS_PILOTO/H4/240925_0207.wav  \n",
            "  inflating: PILOTO/ENSAYOS_PILOTO/H6/240925_0253.wav  \n",
            "  inflating: PILOTO/ENSAYOS_PILOTO/H6/240925_0241.wav  \n",
            "  inflating: PILOTO/ENSAYOS_PILOTO/H6/240925_0250.wav  \n",
            "  inflating: PILOTO/ENSAYOS_PILOTO/H6/240925_0249.wav  \n",
            "  inflating: PILOTO/ENSAYOS_PILOTO/H6/240925_0243.wav  \n",
            "  inflating: PILOTO/ENSAYOS_PILOTO/H6/240925_0256.wav  \n",
            "  inflating: PILOTO/ENSAYOS_PILOTO/H6/240925_0251.wav  \n",
            "  inflating: PILOTO/ENSAYOS_PILOTO/H6/240925_0255.wav  \n",
            "  inflating: PILOTO/ENSAYOS_PILOTO/M1/240924_0024.wav  \n",
            "  inflating: PILOTO/ENSAYOS_PILOTO/H6/240925_0244.wav  \n",
            "  inflating: PILOTO/ENSAYOS_PILOTO/H6/240925_0254.wav  \n",
            "  inflating: PILOTO/ENSAYOS_PILOTO/H6/240925_0245.wav  \n",
            "  inflating: PILOTO/ENSAYOS_PILOTO/M1/240924_0032.wav  \n",
            "  inflating: PILOTO/ENSAYOS_PILOTO/M7/240924_0103.wav  \n",
            "  inflating: PILOTO/ENSAYOS_PILOTO/H5/240925_0184.wav  \n",
            "  inflating: PILOTO/ENSAYOS_PILOTO/M8/240924_0117.wav  \n",
            "  inflating: PILOTO/ENSAYOS_PILOTO/H6/240925_0252.wav  \n",
            "  inflating: PILOTO/ENSAYOS_PILOTO/M1/240924_0023.wav  \n",
            "  inflating: PILOTO/ENSAYOS_PILOTO/H4/240925_0216.wav  \n",
            "  inflating: PILOTO/ENSAYOS_PILOTO/H4/240925_0219.wav  \n",
            "  inflating: PILOTO/ENSAYOS_PILOTO/H5/240925_0185.wav  \n",
            "  inflating: PILOTO/ENSAYOS_PILOTO/H6/240925_0248.wav  \n",
            "  inflating: PILOTO/ENSAYOS_PILOTO/H5/240925_0177.wav  \n",
            "  inflating: PILOTO/ENSAYOS_PILOTO/H4/240925_0208.wav  \n",
            "  inflating: PILOTO/ENSAYOS_PILOTO/H5/240925_0181.wav  \n",
            "  inflating: PILOTO/ENSAYOS_PILOTO/M1/240924_0027.wav  \n",
            "  inflating: PILOTO/ENSAYOS_PILOTO/H5/240925_0183.wav  \n",
            "  inflating: PILOTO/ENSAYOS_PILOTO/H5/240925_0180.wav  \n",
            "  inflating: PILOTO/ENSAYOS_PILOTO/H4/240925_0222.wav  \n",
            "  inflating: PILOTO/ENSAYOS_PILOTO/M1/240924_0031.wav  \n",
            "  inflating: PILOTO/ENSAYOS_PILOTO/H5/240925_0182.wav  \n",
            "  inflating: PILOTO/ENSAYOS_PILOTO/M1/240924_0033.wav  \n",
            "  inflating: PILOTO/ENSAYOS_PILOTO/H5/240925_0187.wav  \n",
            "  inflating: PILOTO/ENSAYOS_PILOTO/M1/240924_0029.wav  \n",
            "  inflating: PILOTO/ENSAYOS_PILOTO/H4/240925_0212.wav  \n",
            "  inflating: PILOTO/ENSAYOS_PILOTO/H4/240925_0210.wav  \n",
            "  inflating: PILOTO/ENSAYOS_PILOTO/H4/240925_0209.wav  \n",
            "  inflating: PILOTO/ENSAYOS_PILOTO/M1/240924_0026.wav  \n",
            "  inflating: PILOTO/ENSAYOS_PILOTO/M1/240924_0030.wav  \n",
            "  inflating: PILOTO/ENSAYOS_PILOTO/H4/240925_0206.wav  \n",
            "  inflating: PILOTO/ENSAYOS_PILOTO/H4/240925_0215.wav  \n",
            "  inflating: PILOTO/ENSAYOS_PILOTO/H5/240925_0186.wav  \n",
            "  inflating: PILOTO/ENSAYOS_PILOTO/M1/240924_0037.wav  \n",
            "  inflating: PILOTO/ENSAYOS_PILOTO/M1/240924_0036.wav  \n",
            "  inflating: PILOTO/ENSAYOS_PILOTO/H5/240925_0178.wav  \n",
            "  inflating: PILOTO/ENSAYOS_PILOTO/H4/240925_0214.wav  \n",
            "  inflating: PILOTO/ENSAYOS_PILOTO/H4/240925_0217.wav  \n",
            "  inflating: PILOTO/ENSAYOS_PILOTO/H4/240925_0211.wav  \n",
            "  inflating: PILOTO/ENSAYOS_PILOTO/M1/240924_0025.wav  \n",
            "  inflating: PILOTO/ENSAYOS_PILOTO/H4/240925_0221.wav  \n",
            "  inflating: PILOTO/ENSAYOS_PILOTO/M1/240924_0038.wav  \n",
            "  inflating: PILOTO/ENSAYOS_PILOTO/M1/240924_0034.wav  \n",
            "  inflating: PILOTO/ENSAYOS_PILOTO/H5/240925_0192.wav  \n",
            "  inflating: PILOTO/ENSAYOS_PILOTO/H4/240925_0213.wav  \n",
            "  inflating: PILOTO/ENSAYOS_PILOTO/M1/240924_0028.wav  \n",
            "  inflating: PILOTO/ENSAYOS_PILOTO/H-E1/240924_0017.wav  \n",
            "  inflating: PILOTO/ENSAYOS_PILOTO/H5/240925_0188.wav  \n",
            "  inflating: PILOTO/ENSAYOS_PILOTO/H5/240925_0179.wav  \n",
            "  inflating: PILOTO/ENSAYOS_PILOTO/H-E1/240924_0013.wav  \n",
            "  inflating: PILOTO/ENSAYOS_PILOTO/H-E1/240924_0021.wav  \n",
            "  inflating: PILOTO/ENSAYOS_PILOTO/H5/240925_0191.wav  \n",
            "  inflating: PILOTO/ENSAYOS_PILOTO/H4/240925_0220.wav  \n",
            "  inflating: PILOTO/ENSAYOS_PILOTO/H4/240925_0218.wav  \n",
            "  inflating: PILOTO/ENSAYOS_PILOTO/H-E1/240924_0010.wav  \n",
            "  inflating: PILOTO/ENSAYOS_PILOTO/H5/240925_0189.wav  \n",
            "  inflating: PILOTO/ENSAYOS_PILOTO/H-E1/240924_0012.wav  \n",
            "  inflating: PILOTO/ENSAYOS_PILOTO/H-E1/240924_0024.wav  \n",
            "  inflating: PILOTO/ENSAYOS_PILOTO/H-E1/240924_0023.wav  \n",
            "  inflating: PILOTO/ENSAYOS_PILOTO/H-E1/240924_0022.wav  \n",
            "  inflating: PILOTO/ENSAYOS_PILOTO/H-E1/240924_0011.wav  \n",
            "  inflating: PILOTO/ENSAYOS_PILOTO/H-E1/240924_0019.wav  \n",
            "  inflating: PILOTO/ENSAYOS_PILOTO/M5/240924_0074.wav  \n",
            "  inflating: PILOTO/ENSAYOS_PILOTO/H-E1/240924_0014.wav  \n",
            "  inflating: PILOTO/ENSAYOS_PILOTO/H-E1/240924_0009.wav  \n",
            "  inflating: PILOTO/ENSAYOS_PILOTO/M5/240924_0077.wav  \n",
            "  inflating: PILOTO/ENSAYOS_PILOTO/H-E1/240924_0020.wav  \n",
            "  inflating: PILOTO/ENSAYOS_PILOTO/M5/240924_0079.wav  \n",
            "  inflating: PILOTO/ENSAYOS_PILOTO/M5/240924_0075.wav  \n",
            "  inflating: PILOTO/ENSAYOS_PILOTO/M5/240924_0073.wav  \n",
            "  inflating: PILOTO/ENSAYOS_PILOTO/M5/240924_0076.wav  \n",
            "  inflating: PILOTO/ENSAYOS_PILOTO/H-E1/240924_0016.wav  \n",
            "  inflating: PILOTO/ENSAYOS_PILOTO/M8/240924_0121.wav  \n",
            "  inflating: PILOTO/ENSAYOS_PILOTO/M11/240925_0223.wav  \n",
            "  inflating: PILOTO/ENSAYOS_PILOTO/M5/240924_0072.wav  \n",
            "  inflating: PILOTO/ENSAYOS_PILOTO/M5/240924_0078.wav  \n",
            "  inflating: PILOTO/ENSAYOS_PILOTO/H-E1/240924_0018.wav  \n",
            "  inflating: PILOTO/ENSAYOS_PILOTO/H-E1/240924_0015.wav  \n",
            "  inflating: PILOTO/ENSAYOS_PILOTO/M5/240924_0082.wav  \n",
            "  inflating: PILOTO/ENSAYOS_PILOTO/M11/240925_0224.wav  \n",
            "  inflating: PILOTO/ENSAYOS_PILOTO/M11/240925_0230.wav  \n",
            "  inflating: PILOTO/ENSAYOS_PILOTO/M11/240925_0225.wav  \n",
            "  inflating: PILOTO/ENSAYOS_PILOTO/M5/240924_0084.wav  \n",
            "  inflating: PILOTO/ENSAYOS_PILOTO/M1/240924_0035.wav  \n",
            "  inflating: PILOTO/ENSAYOS_PILOTO/M5/240924_0088.wav  \n",
            "  inflating: PILOTO/ENSAYOS_PILOTO/M5/240924_0080.wav  \n",
            "  inflating: PILOTO/ENSAYOS_PILOTO/M5/240924_0085.wav  \n",
            "  inflating: PILOTO/ENSAYOS_PILOTO/M11/240925_0228.wav  \n",
            "  inflating: PILOTO/ENSAYOS_PILOTO/M11/240925_0237.wav  \n",
            "  inflating: PILOTO/ENSAYOS_PILOTO/M9/240924_0126.wav  \n",
            "  inflating: PILOTO/ENSAYOS_PILOTO/M11/240925_0236.wav  \n",
            "  inflating: PILOTO/ENSAYOS_PILOTO/M5/240924_0087.wav  \n",
            "  inflating: PILOTO/ENSAYOS_PILOTO/M11/240925_0226.wav  \n",
            "  inflating: PILOTO/ENSAYOS_PILOTO/M3/240924_0041.wav  \n",
            "  inflating: PILOTO/ENSAYOS_PILOTO/M3/240924_0043.wav  \n",
            "  inflating: PILOTO/ENSAYOS_PILOTO/M9/240924_0134.wav  \n",
            "  inflating: PILOTO/ENSAYOS_PILOTO/M9/240924_0122.wav  \n",
            "  inflating: PILOTO/ENSAYOS_PILOTO/M5/240924_0083.wav  \n",
            "  inflating: PILOTO/ENSAYOS_PILOTO/M3/240924_0042.wav  \n",
            "  inflating: PILOTO/ENSAYOS_PILOTO/M9/240924_0136.wav  \n",
            "  inflating: PILOTO/ENSAYOS_PILOTO/M11/240925_0235.wav  \n",
            "  inflating: PILOTO/ENSAYOS_PILOTO/H5/240925_0190.wav  \n",
            "  inflating: PILOTO/ENSAYOS_PILOTO/M9/240924_0130.wav  \n",
            "  inflating: PILOTO/ENSAYOS_PILOTO/M3/240924_0046.wav  \n",
            "  inflating: PILOTO/ENSAYOS_PILOTO/M11/240925_0227.wav  \n",
            "  inflating: PILOTO/ENSAYOS_PILOTO/M11/240925_0231.wav  \n",
            "  inflating: PILOTO/ENSAYOS_PILOTO/M3/240924_0039.wav  \n",
            "  inflating: PILOTO/ENSAYOS_PILOTO/M5/240924_0081.wav  \n",
            "  inflating: PILOTO/ENSAYOS_PILOTO/M11/240925_0232.wav  \n",
            "  inflating: PILOTO/ENSAYOS_PILOTO/M3/240924_0047.wav  \n",
            "  inflating: PILOTO/ENSAYOS_PILOTO/M11/240925_0233.wav  \n",
            "  inflating: PILOTO/ENSAYOS_PILOTO/M9/240924_0125.wav  \n",
            "  inflating: PILOTO/ENSAYOS_PILOTO/M9/240924_0129.wav  \n",
            "  inflating: PILOTO/ENSAYOS_PILOTO/M3/240924_0044.wav  \n",
            "  inflating: PILOTO/ENSAYOS_PILOTO/M3/240924_0040.wav  \n",
            "  inflating: PILOTO/ENSAYOS_PILOTO/M9/240924_0128.wav  \n",
            "  inflating: PILOTO/ENSAYOS_PILOTO/M3/240924_0048.wav  \n",
            "  inflating: PILOTO/ENSAYOS_PILOTO/M3/240924_0052.wav  \n",
            "  inflating: PILOTO/ENSAYOS_PILOTO/H2/240924_0156.wav  \n",
            "  inflating: PILOTO/ENSAYOS_PILOTO/M9/240924_0132.wav  \n",
            "  inflating: PILOTO/ENSAYOS_PILOTO/M3/240924_0054.wav  \n",
            "  inflating: PILOTO/ENSAYOS_PILOTO/M9/240924_0124.wav  \n",
            "  inflating: PILOTO/ENSAYOS_PILOTO/M9/240924_0123.wav  \n",
            "  inflating: PILOTO/ENSAYOS_PILOTO/M11/240925_0238.wav  \n",
            "  inflating: PILOTO/ENSAYOS_PILOTO/M9/240924_0135.wav  \n",
            "  inflating: PILOTO/ENSAYOS_PILOTO/H2/240924_0146.wav  \n",
            "  inflating: PILOTO/ENSAYOS_PILOTO/M5/240924_0086.wav  \n",
            "  inflating: PILOTO/ENSAYOS_PILOTO/M3/240924_0050.wav  \n",
            "  inflating: PILOTO/ENSAYOS_PILOTO/H2/240924_0142.wav  \n",
            "  inflating: PILOTO/ENSAYOS_PILOTO/M9/240924_0127.wav  \n",
            "  inflating: PILOTO/ENSAYOS_PILOTO/M11/240925_0229.wav  \n",
            "  inflating: PILOTO/ENSAYOS_PILOTO/M3/240924_0051.wav  \n",
            "  inflating: PILOTO/ENSAYOS_PILOTO/H2/240924_0139.wav  \n",
            "  inflating: PILOTO/ENSAYOS_PILOTO/H2/240924_0145.wav  \n",
            "  inflating: PILOTO/ENSAYOS_PILOTO/M3/240924_0045.wav  \n",
            "  inflating: PILOTO/ENSAYOS_PILOTO/M3/240924_0053.wav  \n",
            "  inflating: PILOTO/ENSAYOS_PILOTO/M2/240924_0012.wav  \n",
            "  inflating: PILOTO/ENSAYOS_PILOTO/M9/240924_0133.wav  \n",
            "  inflating: PILOTO/ENSAYOS_PILOTO/M2/240924_0009.wav  \n",
            "  inflating: PILOTO/ENSAYOS_PILOTO/H2/240924_0141.wav  \n",
            "  inflating: PILOTO/ENSAYOS_PILOTO/M3/240924_0049.wav  \n",
            "  inflating: PILOTO/ENSAYOS_PILOTO/M9/240924_0137.wav  \n",
            "  inflating: PILOTO/ENSAYOS_PILOTO/H2/240924_0143.wav  \n",
            "  inflating: PILOTO/ENSAYOS_PILOTO/H2/240924_0140.wav  \n",
            "  inflating: PILOTO/ENSAYOS_PILOTO/M11/240925_0234.wav  \n",
            "  inflating: PILOTO/ENSAYOS_PILOTO/M9/240924_0131.wav  \n",
            "  inflating: PILOTO/ENSAYOS_PILOTO/M2/240924_0007.wav  \n",
            "  inflating: PILOTO/ENSAYOS_PILOTO/M2/240924_0018.wav  \n",
            "  inflating: PILOTO/ENSAYOS_PILOTO/M2/240924_0008.wav  \n",
            "  inflating: PILOTO/ENSAYOS_PILOTO/M2/240924_0017.wav  \n",
            "  inflating: PILOTO/ENSAYOS_PILOTO/H2/240924_0149.wav  \n",
            "  inflating: PILOTO/ENSAYOS_PILOTO/M2/240924_0013.wav  \n",
            "  inflating: PILOTO/ENSAYOS_PILOTO/H2/240924_0144.wav  \n",
            "  inflating: PILOTO/ENSAYOS_PILOTO/H2/240924_0151.wav  \n",
            "  inflating: PILOTO/ENSAYOS_PILOTO/M2/240924_0021.wav  \n",
            "  inflating: PILOTO/ENSAYOS_PILOTO/H2/240924_0152.wav  \n",
            "  inflating: PILOTO/ENSAYOS_PILOTO/M9/240924_0138.wav  \n",
            "  inflating: PILOTO/ENSAYOS_PILOTO/M2/240924_0014.wav  \n",
            "  inflating: PILOTO/ENSAYOS_PILOTO/M2/240924_0016.wav  \n",
            "  inflating: PILOTO/ENSAYOS_PILOTO/M2/240924_0015.wav  \n",
            "  inflating: PILOTO/ENSAYOS_PILOTO/H2/240924_0155.wav  \n",
            "  inflating: PILOTO/ENSAYOS_PILOTO/H2/240924_0153.wav  \n",
            "  inflating: PILOTO/ENSAYOS_PILOTO/M2/240924_0006.wav  \n",
            "  inflating: PILOTO/ENSAYOS_PILOTO/M4/240924_0064.wav  \n",
            "  inflating: PILOTO/ENSAYOS_PILOTO/M2/240924_0011.wav  \n",
            "  inflating: PILOTO/ENSAYOS_PILOTO/M4/240924_0055.wav  \n",
            "  inflating: PILOTO/ENSAYOS_PILOTO/M4/240924_0062.wav  \n",
            "  inflating: PILOTO/ENSAYOS_PILOTO/H2/240924_0150.wav  \n",
            "  inflating: PILOTO/ENSAYOS_PILOTO/M4/240924_0057.wav  \n",
            "  inflating: PILOTO/ENSAYOS_PILOTO/H3/240925_0172.wav  \n",
            "  inflating: PILOTO/ENSAYOS_PILOTO/M2/240924_0019.wav  \n",
            "  inflating: PILOTO/ENSAYOS_PILOTO/M4/240924_0058.wav  \n",
            "  inflating: PILOTO/ENSAYOS_PILOTO/M4/240924_0059.wav  \n",
            "  inflating: PILOTO/ENSAYOS_PILOTO/H3/240925_0176.wav  \n",
            "  inflating: PILOTO/ENSAYOS_PILOTO/M4/240924_0056.wav  \n",
            "  inflating: PILOTO/ENSAYOS_PILOTO/M4/240924_0071.wav  \n",
            "  inflating: PILOTO/ENSAYOS_PILOTO/H3/240925_0167.wav  \n",
            "  inflating: PILOTO/ENSAYOS_PILOTO/H2/240924_0148.wav  \n",
            "  inflating: PILOTO/ENSAYOS_PILOTO/M4/240924_0060.wav  \n",
            "  inflating: PILOTO/ENSAYOS_PILOTO/M4/240924_0070.wav  \n",
            "  inflating: PILOTO/ENSAYOS_PILOTO/M4/240924_0067.wav  \n",
            "  inflating: PILOTO/ENSAYOS_PILOTO/M4/240924_0065.wav  \n",
            "  inflating: PILOTO/ENSAYOS_PILOTO/H2/240924_0147.wav  \n",
            "  inflating: PILOTO/ENSAYOS_PILOTO/H3/240925_0168.wav  \n",
            "  inflating: PILOTO/ENSAYOS_PILOTO/H3/240925_0174.wav  \n",
            "  inflating: PILOTO/ENSAYOS_PILOTO/M4/240924_0061.wav  \n",
            "  inflating: PILOTO/ENSAYOS_PILOTO/H3/240925_0160.wav  \n",
            "  inflating: PILOTO/ENSAYOS_PILOTO/H3/240925_0175.wav  \n",
            "  inflating: PILOTO/ENSAYOS_PILOTO/M4/240924_0069.wav  \n",
            "  inflating: PILOTO/ENSAYOS_PILOTO/M2/240924_0022.wav  \n",
            "  inflating: PILOTO/ENSAYOS_PILOTO/M4/240924_0066.wav  \n",
            "  inflating: PILOTO/ENSAYOS_PILOTO/H3/240925_0162.wav  \n",
            "  inflating: PILOTO/ENSAYOS_PILOTO/H3/240925_0163.wav  \n",
            "  inflating: PILOTO/ENSAYOS_PILOTO/M4/240924_0063.wav  \n",
            "  inflating: PILOTO/ENSAYOS_PILOTO/H3/240925_0169.wav  \n",
            "  inflating: PILOTO/ENSAYOS_PILOTO/H3/240925_0170.wav  \n",
            "  inflating: PILOTO/ENSAYOS_PILOTO/H3/240925_0173.wav  \n",
            "  inflating: PILOTO/ENSAYOS_PILOTO/H3/240925_0171.wav  \n",
            "  inflating: PILOTO/ENSAYOS_PILOTO/H3/240925_0159.wav  \n",
            "  inflating: PILOTO/ENSAYOS_PILOTO/H3/240925_0161.wav  \n",
            "  inflating: PILOTO/ENSAYOS_PILOTO/H3/240925_0158.wav  \n",
            "  inflating: PILOTO/ENSAYOS_PILOTO/H3/240925_0157.wav  \n",
            "  inflating: PILOTO/ENSAYOS_PILOTO/H3/240925_0165.wav  \n",
            "  inflating: PILOTO/ENSAYOS_PILOTO/H3/240925_0164.wav  \n",
            "  inflating: PILOTO/ENSAYOS_PILOTO/H3/240925_0166.wav  \n",
            "  inflating: PILOTO/ENSAYOS_PILOTO/H2/240924_0154.wav  \n",
            "  inflating: PILOTO/ENSAYOS_PILOTO/M2/240924_0010.wav  \n",
            "  inflating: PILOTO/ENSAYOS_PILOTO/M4/240924_0068.wav  \n"
          ]
        }
      ],
      "source": [
        "!unzip ENSAYOS_PILOTO-20241129T063801Z-001.zip -d PILOTO"
      ]
    },
    {
      "cell_type": "code",
      "execution_count": null,
      "metadata": {
        "id": "bffLIB0sQCgc"
      },
      "outputs": [],
      "source": [
        "#Borrar zip\n",
        "!rm -rf /content/ENSAYOS_PILOTO-20241129T063801Z-001.zip"
      ]
    },
    {
      "cell_type": "code",
      "execution_count": null,
      "metadata": {
        "colab": {
          "base_uri": "https://localhost:8080/"
        },
        "id": "PqyGdT9LK7-H",
        "outputId": "f2f82884-fb4c-4eb3-b3b8-0460e593e74a"
      },
      "outputs": [
        {
          "name": "stdout",
          "output_type": "stream",
          "text": [
            "\u001b[?25l     \u001b[90m━━━━━━━━━━━━━━━━━━━━━━━━━━━━━━━━━━━━━━━━\u001b[0m \u001b[32m0.0/800.5 kB\u001b[0m \u001b[31m?\u001b[0m eta \u001b[36m-:--:--\u001b[0m\r\u001b[2K     \u001b[91m━━━━━━━━━━━━━━━━━━━━━━━━━━━━━━━━━━━━━━━\u001b[0m\u001b[91m╸\u001b[0m \u001b[32m798.7/800.5 kB\u001b[0m \u001b[31m24.1 MB/s\u001b[0m eta \u001b[36m0:00:01\u001b[0m\r\u001b[2K     \u001b[90m━━━━━━━━━━━━━━━━━━━━━━━━━━━━━━━━━━━━━━━━\u001b[0m \u001b[32m800.5/800.5 kB\u001b[0m \u001b[31m15.8 MB/s\u001b[0m eta \u001b[36m0:00:00\u001b[0m\n",
            "\u001b[?25h  Installing build dependencies ... \u001b[?25l\u001b[?25hdone\n",
            "  Getting requirements to build wheel ... \u001b[?25l\u001b[?25hdone\n",
            "  Preparing metadata (pyproject.toml) ... \u001b[?25l\u001b[?25hdone\n",
            "  Preparing metadata (setup.py) ... \u001b[?25l\u001b[?25hdone\n",
            "\u001b[2K   \u001b[90m━━━━━━━━━━━━━━━━━━━━━━━━━━━━━━━━━━━━━━━━\u001b[0m \u001b[32m1.2/1.2 MB\u001b[0m \u001b[31m48.1 MB/s\u001b[0m eta \u001b[36m0:00:00\u001b[0m\n",
            "\u001b[2K   \u001b[90m━━━━━━━━━━━━━━━━━━━━━━━━━━━━━━━━━━━━━━━━\u001b[0m \u001b[32m363.4/363.4 MB\u001b[0m \u001b[31m4.5 MB/s\u001b[0m eta \u001b[36m0:00:00\u001b[0m\n",
            "\u001b[2K   \u001b[90m━━━━━━━━━━━━━━━━━━━━━━━━━━━━━━━━━━━━━━━━\u001b[0m \u001b[32m13.8/13.8 MB\u001b[0m \u001b[31m92.6 MB/s\u001b[0m eta \u001b[36m0:00:00\u001b[0m\n",
            "\u001b[2K   \u001b[90m━━━━━━━━━━━━━━━━━━━━━━━━━━━━━━━━━━━━━━━━\u001b[0m \u001b[32m24.6/24.6 MB\u001b[0m \u001b[31m72.3 MB/s\u001b[0m eta \u001b[36m0:00:00\u001b[0m\n",
            "\u001b[2K   \u001b[90m━━━━━━━━━━━━━━━━━━━━━━━━━━━━━━━━━━━━━━━━\u001b[0m \u001b[32m883.7/883.7 kB\u001b[0m \u001b[31m41.6 MB/s\u001b[0m eta \u001b[36m0:00:00\u001b[0m\n",
            "\u001b[2K   \u001b[90m━━━━━━━━━━━━━━━━━━━━━━━━━━━━━━━━━━━━━━━━\u001b[0m \u001b[32m664.8/664.8 MB\u001b[0m \u001b[31m3.1 MB/s\u001b[0m eta \u001b[36m0:00:00\u001b[0m\n",
            "\u001b[2K   \u001b[90m━━━━━━━━━━━━━━━━━━━━━━━━━━━━━━━━━━━━━━━━\u001b[0m \u001b[32m211.5/211.5 MB\u001b[0m \u001b[31m6.1 MB/s\u001b[0m eta \u001b[36m0:00:00\u001b[0m\n",
            "\u001b[2K   \u001b[90m━━━━━━━━━━━━━━━━━━━━━━━━━━━━━━━━━━━━━━━━\u001b[0m \u001b[32m56.3/56.3 MB\u001b[0m \u001b[31m11.6 MB/s\u001b[0m eta \u001b[36m0:00:00\u001b[0m\n",
            "\u001b[2K   \u001b[90m━━━━━━━━━━━━━━━━━━━━━━━━━━━━━━━━━━━━━━━━\u001b[0m \u001b[32m127.9/127.9 MB\u001b[0m \u001b[31m9.2 MB/s\u001b[0m eta \u001b[36m0:00:00\u001b[0m\n",
            "\u001b[2K   \u001b[90m━━━━━━━━━━━━━━━━━━━━━━━━━━━━━━━━━━━━━━━━\u001b[0m \u001b[32m207.5/207.5 MB\u001b[0m \u001b[31m6.4 MB/s\u001b[0m eta \u001b[36m0:00:00\u001b[0m\n",
            "\u001b[2K   \u001b[90m━━━━━━━━━━━━━━━━━━━━━━━━━━━━━━━━━━━━━━━━\u001b[0m \u001b[32m21.1/21.1 MB\u001b[0m \u001b[31m63.9 MB/s\u001b[0m eta \u001b[36m0:00:00\u001b[0m\n",
            "\u001b[?25h  Building wheel for openai-whisper (pyproject.toml) ... \u001b[?25l\u001b[?25hdone\n",
            "  Building wheel for ffmpeg (setup.py) ... \u001b[?25l\u001b[?25hdone\n"
          ]
        }
      ],
      "source": [
        "!pip install -q openai-whisper ffmpeg"
      ]
    },
    {
      "cell_type": "code",
      "execution_count": null,
      "metadata": {
        "colab": {
          "base_uri": "https://localhost:8080/"
        },
        "id": "kAK-xx5HK4xt",
        "outputId": "0772e1fc-32cf-47bb-d8e4-be5ebed12a33"
      },
      "outputs": [
        {
          "name": "stdout",
          "output_type": "stream",
          "text": [
            "Requirement already satisfied: SpeechRecognition in /usr/local/lib/python3.11/dist-packages (3.14.1)\n",
            "Requirement already satisfied: typing-extensions in /usr/local/lib/python3.11/dist-packages (from SpeechRecognition) (4.12.2)\n"
          ]
        }
      ],
      "source": [
        "!pip install SpeechRecognition"
      ]
    },
    {
      "cell_type": "code",
      "execution_count": null,
      "metadata": {
        "colab": {
          "base_uri": "https://localhost:8080/"
        },
        "id": "cmA35QG5LAx9",
        "outputId": "1ecf33da-1145-454c-d9e6-a873f942071d"
      },
      "outputs": [
        {
          "name": "stdout",
          "output_type": "stream",
          "text": [
            "Requirement already satisfied: pyaudio in /usr/local/lib/python3.11/dist-packages (0.2.14)\n"
          ]
        }
      ],
      "source": [
        "!pip install pyaudio\n",
        "from pydub import AudioSegment"
      ]
    },
    {
      "cell_type": "code",
      "execution_count": null,
      "metadata": {
        "colab": {
          "base_uri": "https://localhost:8080/"
        },
        "id": "jWKsBHXKLCy8",
        "outputId": "53dab5ae-01c1-47fa-bf32-1944f87a6599"
      },
      "outputs": [
        {
          "name": "stderr",
          "output_type": "stream",
          "text": [
            "100%|█████████████████████████████████████| 1.51G/1.51G [00:21<00:00, 76.7MiB/s]\n",
            "/usr/local/lib/python3.11/dist-packages/whisper/__init__.py:150: FutureWarning: You are using `torch.load` with `weights_only=False` (the current default value), which uses the default pickle module implicitly. It is possible to construct malicious pickle data which will execute arbitrary code during unpickling (See https://github.com/pytorch/pytorch/blob/main/SECURITY.md#untrusted-models for more details). In a future release, the default value for `weights_only` will be flipped to `True`. This limits the functions that could be executed during unpickling. Arbitrary objects will no longer be allowed to be loaded via this mode unless they are explicitly allowlisted by the user via `torch.serialization.add_safe_globals`. We recommend you start setting `weights_only=True` for any use case where you don't have full control of the loaded file. Please open an issue on GitHub for any issues related to this experimental feature.\n",
            "  checkpoint = torch.load(fp, map_location=device)\n"
          ]
        }
      ],
      "source": [
        "import whisper\n",
        "model = whisper.load_model(\"turbo\")"
      ]
    },
    {
      "cell_type": "code",
      "execution_count": null,
      "metadata": {
        "colab": {
          "background_save": true,
          "base_uri": "https://localhost:8080/"
        },
        "id": "ec53T5eoLHpP",
        "outputId": "63c01af5-08e5-49ac-bbbb-e8079cfdc70c"
      },
      "outputs": [
        {
          "name": "stdout",
          "output_type": "stream",
          "text": [
            "Procesando carpeta: M3\n",
            "Procesando archivo: 240924_0053.wav\n"
          ]
        },
        {
          "name": "stderr",
          "output_type": "stream",
          "text": [
            "100%|██████████| 756/756 [01:53<00:00,  6.66frames/s]\n"
          ]
        },
        {
          "name": "stdout",
          "output_type": "stream",
          "text": [
            "Procesando archivo: 240924_0045.wav\n"
          ]
        },
        {
          "name": "stderr",
          "output_type": "stream",
          "text": [
            "100%|██████████| 790/790 [01:44<00:00,  7.58frames/s]\n"
          ]
        },
        {
          "name": "stdout",
          "output_type": "stream",
          "text": [
            "Procesando archivo: 240924_0052.wav\n"
          ]
        },
        {
          "name": "stderr",
          "output_type": "stream",
          "text": [
            "100%|██████████| 728/728 [01:50<00:00,  6.56frames/s]\n"
          ]
        },
        {
          "name": "stdout",
          "output_type": "stream",
          "text": [
            "Procesando archivo: 240924_0050.wav\n"
          ]
        },
        {
          "name": "stderr",
          "output_type": "stream",
          "text": [
            "100%|██████████| 1015/1015 [01:44<00:00,  9.72frames/s]\n"
          ]
        },
        {
          "name": "stdout",
          "output_type": "stream",
          "text": [
            "Procesando archivo: 240924_0041.wav\n"
          ]
        },
        {
          "name": "stderr",
          "output_type": "stream",
          "text": [
            "100%|██████████| 652/652 [01:45<00:00,  6.18frames/s]\n"
          ]
        },
        {
          "name": "stdout",
          "output_type": "stream",
          "text": [
            "Procesando archivo: 240924_0044.wav\n"
          ]
        },
        {
          "name": "stderr",
          "output_type": "stream",
          "text": [
            "100%|██████████| 767/767 [01:44<00:00,  7.34frames/s]\n"
          ]
        },
        {
          "name": "stdout",
          "output_type": "stream",
          "text": [
            "Procesando archivo: 240924_0042.wav\n"
          ]
        },
        {
          "name": "stderr",
          "output_type": "stream",
          "text": [
            "100%|██████████| 809/809 [01:46<00:00,  7.60frames/s]\n"
          ]
        },
        {
          "name": "stdout",
          "output_type": "stream",
          "text": [
            "Procesando archivo: 240924_0039.wav\n"
          ]
        },
        {
          "name": "stderr",
          "output_type": "stream",
          "text": [
            "100%|██████████| 529/529 [01:46<00:00,  4.95frames/s]\n"
          ]
        },
        {
          "name": "stdout",
          "output_type": "stream",
          "text": [
            "Procesando archivo: 240924_0054.wav\n"
          ]
        },
        {
          "name": "stderr",
          "output_type": "stream",
          "text": [
            "100%|██████████| 720/720 [01:49<00:00,  6.55frames/s]\n"
          ]
        },
        {
          "name": "stdout",
          "output_type": "stream",
          "text": [
            "Procesando archivo: 240924_0046.wav\n"
          ]
        },
        {
          "name": "stderr",
          "output_type": "stream",
          "text": [
            "100%|██████████| 717/717 [01:46<00:00,  6.70frames/s]\n"
          ]
        },
        {
          "name": "stdout",
          "output_type": "stream",
          "text": [
            "Procesando archivo: 240924_0051.wav\n"
          ]
        },
        {
          "name": "stderr",
          "output_type": "stream",
          "text": [
            "100%|██████████| 699/699 [01:44<00:00,  6.69frames/s]\n"
          ]
        },
        {
          "name": "stdout",
          "output_type": "stream",
          "text": [
            "Procesando archivo: 240924_0040.wav\n"
          ]
        },
        {
          "name": "stderr",
          "output_type": "stream",
          "text": [
            "100%|██████████| 636/636 [01:46<00:00,  5.99frames/s]\n"
          ]
        },
        {
          "name": "stdout",
          "output_type": "stream",
          "text": [
            "Procesando archivo: 240924_0048.wav\n"
          ]
        },
        {
          "name": "stderr",
          "output_type": "stream",
          "text": [
            "100%|██████████| 801/801 [01:45<00:00,  7.58frames/s]\n"
          ]
        },
        {
          "name": "stdout",
          "output_type": "stream",
          "text": [
            "Procesando archivo: 240924_0043.wav\n"
          ]
        },
        {
          "name": "stderr",
          "output_type": "stream",
          "text": [
            "100%|██████████| 639/639 [01:51<00:00,  5.71frames/s]\n"
          ]
        },
        {
          "name": "stdout",
          "output_type": "stream",
          "text": [
            "Procesando archivo: 240924_0047.wav\n"
          ]
        },
        {
          "name": "stderr",
          "output_type": "stream",
          "text": [
            "100%|██████████| 746/746 [01:50<00:00,  6.75frames/s]\n"
          ]
        },
        {
          "name": "stdout",
          "output_type": "stream",
          "text": [
            "Procesando archivo: 240924_0049.wav\n"
          ]
        },
        {
          "name": "stderr",
          "output_type": "stream",
          "text": [
            "100%|██████████| 913/913 [01:44<00:00,  8.73frames/s]\n"
          ]
        },
        {
          "name": "stdout",
          "output_type": "stream",
          "text": [
            "Procesando carpeta: H2\n",
            "Procesando archivo: 240924_0156.wav\n"
          ]
        },
        {
          "name": "stderr",
          "output_type": "stream",
          "text": [
            "100%|██████████| 683/683 [01:45<00:00,  6.45frames/s]\n"
          ]
        },
        {
          "name": "stdout",
          "output_type": "stream",
          "text": [
            "Procesando archivo: 240924_0139.wav\n"
          ]
        },
        {
          "name": "stderr",
          "output_type": "stream",
          "text": [
            "100%|██████████| 427/427 [01:44<00:00,  4.07frames/s]\n"
          ]
        },
        {
          "name": "stdout",
          "output_type": "stream",
          "text": [
            "Procesando archivo: 240924_0150.wav\n"
          ]
        },
        {
          "name": "stderr",
          "output_type": "stream",
          "text": [
            "100%|██████████| 707/707 [01:46<00:00,  6.63frames/s]\n"
          ]
        },
        {
          "name": "stdout",
          "output_type": "stream",
          "text": [
            "Procesando archivo: 240924_0153.wav\n"
          ]
        },
        {
          "name": "stderr",
          "output_type": "stream",
          "text": [
            "100%|██████████| 657/657 [01:44<00:00,  6.29frames/s]\n"
          ]
        },
        {
          "name": "stdout",
          "output_type": "stream",
          "text": [
            "Procesando archivo: 240924_0149.wav\n"
          ]
        },
        {
          "name": "stderr",
          "output_type": "stream",
          "text": [
            "100%|██████████| 678/678 [01:52<00:00,  6.04frames/s]\n"
          ]
        },
        {
          "name": "stdout",
          "output_type": "stream",
          "text": [
            "Procesando archivo: 240924_0144.wav\n"
          ]
        },
        {
          "name": "stderr",
          "output_type": "stream",
          "text": [
            "100%|██████████| 741/741 [01:45<00:00,  7.03frames/s]\n"
          ]
        },
        {
          "name": "stdout",
          "output_type": "stream",
          "text": [
            "Procesando archivo: 240924_0151.wav\n"
          ]
        },
        {
          "name": "stderr",
          "output_type": "stream",
          "text": [
            "100%|██████████| 673/673 [01:45<00:00,  6.40frames/s]\n"
          ]
        },
        {
          "name": "stdout",
          "output_type": "stream",
          "text": [
            "Procesando archivo: 240924_0147.wav\n"
          ]
        },
        {
          "name": "stderr",
          "output_type": "stream",
          "text": [
            "100%|██████████| 725/725 [01:48<00:00,  6.71frames/s]\n"
          ]
        },
        {
          "name": "stdout",
          "output_type": "stream",
          "text": [
            "Procesando archivo: 240924_0143.wav\n"
          ]
        },
        {
          "name": "stderr",
          "output_type": "stream",
          "text": [
            "100%|██████████| 597/597 [01:45<00:00,  5.65frames/s]\n"
          ]
        },
        {
          "name": "stdout",
          "output_type": "stream",
          "text": [
            "Procesando archivo: 240924_0145.wav\n"
          ]
        },
        {
          "name": "stderr",
          "output_type": "stream",
          "text": [
            "100%|██████████| 908/908 [01:44<00:00,  8.67frames/s]\n"
          ]
        },
        {
          "name": "stdout",
          "output_type": "stream",
          "text": [
            "Procesando archivo: 240924_0146.wav\n"
          ]
        },
        {
          "name": "stderr",
          "output_type": "stream",
          "text": [
            "100%|██████████| 717/717 [01:47<00:00,  6.70frames/s]\n"
          ]
        },
        {
          "name": "stdout",
          "output_type": "stream",
          "text": [
            "Procesando archivo: 240924_0148.wav\n"
          ]
        },
        {
          "name": "stderr",
          "output_type": "stream",
          "text": [
            "100%|██████████| 824/824 [01:44<00:00,  7.90frames/s]\n"
          ]
        },
        {
          "name": "stdout",
          "output_type": "stream",
          "text": [
            "Procesando archivo: 240924_0140.wav\n"
          ]
        },
        {
          "name": "stderr",
          "output_type": "stream",
          "text": [
            "100%|██████████| 600/600 [01:45<00:00,  5.69frames/s]\n"
          ]
        },
        {
          "name": "stdout",
          "output_type": "stream",
          "text": [
            "Procesando archivo: 240924_0142.wav\n"
          ]
        },
        {
          "name": "stderr",
          "output_type": "stream",
          "text": [
            "100%|██████████| 589/589 [01:45<00:00,  5.56frames/s]\n"
          ]
        },
        {
          "name": "stdout",
          "output_type": "stream",
          "text": [
            "Procesando archivo: 240924_0141.wav\n"
          ]
        },
        {
          "name": "stderr",
          "output_type": "stream",
          "text": [
            "100%|██████████| 644/644 [01:46<00:00,  6.07frames/s]\n"
          ]
        },
        {
          "name": "stdout",
          "output_type": "stream",
          "text": [
            "Procesando archivo: 240924_0155.wav\n"
          ]
        },
        {
          "name": "stderr",
          "output_type": "stream",
          "text": [
            "100%|██████████| 639/639 [01:45<00:00,  6.04frames/s]\n"
          ]
        },
        {
          "name": "stdout",
          "output_type": "stream",
          "text": [
            "Procesando archivo: 240924_0152.wav\n"
          ]
        },
        {
          "name": "stderr",
          "output_type": "stream",
          "text": [
            "100%|██████████| 738/738 [01:45<00:00,  7.03frames/s]\n"
          ]
        },
        {
          "name": "stdout",
          "output_type": "stream",
          "text": [
            "Procesando archivo: 240924_0154.wav\n"
          ]
        },
        {
          "name": "stderr",
          "output_type": "stream",
          "text": [
            "100%|██████████| 662/662 [01:46<00:00,  6.22frames/s]\n"
          ]
        },
        {
          "name": "stdout",
          "output_type": "stream",
          "text": [
            "Procesando carpeta: M2\n",
            "Procesando archivo: 240924_0014.wav\n"
          ]
        },
        {
          "name": "stderr",
          "output_type": "stream",
          "text": [
            "100%|██████████| 725/725 [01:44<00:00,  6.94frames/s]\n"
          ]
        },
        {
          "name": "stdout",
          "output_type": "stream",
          "text": [
            "Procesando archivo: 240924_0013.wav\n"
          ]
        },
        {
          "name": "stderr",
          "output_type": "stream",
          "text": [
            "100%|██████████| 720/720 [01:44<00:00,  6.92frames/s]\n"
          ]
        },
        {
          "name": "stdout",
          "output_type": "stream",
          "text": [
            "Procesando archivo: 240924_0012.wav\n"
          ]
        },
        {
          "name": "stderr",
          "output_type": "stream",
          "text": [
            "0frames [00:00, ?frames/s]\n"
          ]
        },
        {
          "name": "stdout",
          "output_type": "stream",
          "text": [
            "Procesando archivo: 240924_0021.wav\n"
          ]
        },
        {
          "name": "stderr",
          "output_type": "stream",
          "text": [
            "100%|██████████| 712/712 [01:45<00:00,  6.72frames/s]\n"
          ]
        },
        {
          "name": "stdout",
          "output_type": "stream",
          "text": [
            "Procesando archivo: 240924_0018.wav\n"
          ]
        },
        {
          "name": "stderr",
          "output_type": "stream",
          "text": [
            "100%|██████████| 730/730 [01:44<00:00,  6.96frames/s]\n"
          ]
        },
        {
          "name": "stdout",
          "output_type": "stream",
          "text": [
            "Procesando archivo: 240924_0015.wav\n"
          ]
        },
        {
          "name": "stderr",
          "output_type": "stream",
          "text": [
            "100%|██████████| 790/790 [01:45<00:00,  7.46frames/s]\n"
          ]
        },
        {
          "name": "stdout",
          "output_type": "stream",
          "text": [
            "Procesando archivo: 240924_0009.wav\n"
          ]
        },
        {
          "name": "stderr",
          "output_type": "stream",
          "text": [
            "100%|██████████| 466/466 [01:45<00:00,  4.40frames/s]\n"
          ]
        },
        {
          "name": "stdout",
          "output_type": "stream",
          "text": [
            "Procesando archivo: 240924_0008.wav\n"
          ]
        },
        {
          "name": "stderr",
          "output_type": "stream",
          "text": [
            "100%|██████████| 414/414 [01:44<00:00,  3.95frames/s]\n"
          ]
        },
        {
          "name": "stdout",
          "output_type": "stream",
          "text": [
            "Procesando archivo: 240924_0022.wav\n"
          ]
        },
        {
          "name": "stderr",
          "output_type": "stream",
          "text": [
            "100%|██████████| 691/691 [01:46<00:00,  6.46frames/s]\n"
          ]
        },
        {
          "name": "stdout",
          "output_type": "stream",
          "text": [
            "Procesando archivo: 240924_0007.wav\n"
          ]
        },
        {
          "name": "stderr",
          "output_type": "stream",
          "text": [
            "100%|██████████| 438/438 [01:44<00:00,  4.17frames/s]\n"
          ]
        },
        {
          "name": "stdout",
          "output_type": "stream",
          "text": [
            "Procesando archivo: 240924_0011.wav\n"
          ]
        },
        {
          "name": "stderr",
          "output_type": "stream",
          "text": [
            "100%|██████████| 790/790 [01:44<00:00,  7.58frames/s]\n"
          ]
        },
        {
          "name": "stdout",
          "output_type": "stream",
          "text": [
            "Procesando archivo: 240924_0019.wav\n"
          ]
        },
        {
          "name": "stderr",
          "output_type": "stream",
          "text": [
            "100%|██████████| 694/694 [01:45<00:00,  6.58frames/s]\n"
          ]
        },
        {
          "name": "stdout",
          "output_type": "stream",
          "text": [
            "Procesando archivo: 240924_0006.wav\n"
          ]
        },
        {
          "name": "stderr",
          "output_type": "stream",
          "text": [
            "100%|██████████| 406/406 [01:45<00:00,  3.86frames/s]\n"
          ]
        },
        {
          "name": "stdout",
          "output_type": "stream",
          "text": [
            "Procesando archivo: 240924_0010.wav\n"
          ]
        },
        {
          "name": "stderr",
          "output_type": "stream",
          "text": [
            "100%|██████████| 678/678 [01:45<00:00,  6.45frames/s]\n"
          ]
        },
        {
          "name": "stdout",
          "output_type": "stream",
          "text": [
            "Procesando archivo: 240924_0017.wav\n"
          ]
        },
        {
          "name": "stderr",
          "output_type": "stream",
          "text": [
            "100%|██████████| 709/709 [01:45<00:00,  6.70frames/s]\n"
          ]
        },
        {
          "name": "stdout",
          "output_type": "stream",
          "text": [
            "Procesando archivo: 240924_0016.wav\n"
          ]
        },
        {
          "name": "stderr",
          "output_type": "stream",
          "text": [
            "100%|██████████| 733/733 [01:48<00:00,  6.78frames/s]\n"
          ]
        },
        {
          "name": "stdout",
          "output_type": "stream",
          "text": [
            "Procesando carpeta: H3\n",
            "Procesando archivo: 240925_0159.wav\n"
          ]
        },
        {
          "name": "stderr",
          "output_type": "stream",
          "text": [
            "100%|██████████| 678/678 [01:45<00:00,  6.44frames/s]\n"
          ]
        },
        {
          "name": "stdout",
          "output_type": "stream",
          "text": [
            "Procesando archivo: 240925_0168.wav\n"
          ]
        },
        {
          "name": "stderr",
          "output_type": "stream",
          "text": [
            "100%|██████████| 856/856 [01:44<00:00,  8.19frames/s]\n"
          ]
        },
        {
          "name": "stdout",
          "output_type": "stream",
          "text": [
            "Procesando archivo: 240925_0166.wav\n"
          ]
        },
        {
          "name": "stderr",
          "output_type": "stream",
          "text": [
            "100%|██████████| 869/869 [01:45<00:00,  8.24frames/s]\n"
          ]
        },
        {
          "name": "stdout",
          "output_type": "stream",
          "text": [
            "Procesando archivo: 240925_0163.wav\n"
          ]
        },
        {
          "name": "stderr",
          "output_type": "stream",
          "text": [
            "100%|██████████| 913/913 [01:46<00:00,  8.61frames/s]\n"
          ]
        },
        {
          "name": "stdout",
          "output_type": "stream",
          "text": [
            "Procesando archivo: 240925_0170.wav\n"
          ]
        },
        {
          "name": "stderr",
          "output_type": "stream",
          "text": [
            "100%|██████████| 730/730 [01:44<00:00,  6.97frames/s]\n"
          ]
        },
        {
          "name": "stdout",
          "output_type": "stream",
          "text": [
            "Procesando archivo: 240925_0162.wav\n"
          ]
        },
        {
          "name": "stderr",
          "output_type": "stream",
          "text": [
            "100%|██████████| 835/835 [01:45<00:00,  7.94frames/s]\n"
          ]
        },
        {
          "name": "stdout",
          "output_type": "stream",
          "text": [
            "Procesando archivo: 240925_0164.wav\n"
          ]
        },
        {
          "name": "stderr",
          "output_type": "stream",
          "text": [
            "100%|██████████| 829/829 [01:45<00:00,  7.85frames/s]\n"
          ]
        },
        {
          "name": "stdout",
          "output_type": "stream",
          "text": [
            "Procesando archivo: 240925_0169.wav\n"
          ]
        },
        {
          "name": "stderr",
          "output_type": "stream",
          "text": [
            "100%|██████████| 937/937 [01:44<00:00,  9.00frames/s]\n"
          ]
        },
        {
          "name": "stdout",
          "output_type": "stream",
          "text": [
            "Procesando archivo: 240925_0161.wav\n"
          ]
        },
        {
          "name": "stderr",
          "output_type": "stream",
          "text": [
            "100%|██████████| 819/819 [01:46<00:00,  7.70frames/s]\n"
          ]
        },
        {
          "name": "stdout",
          "output_type": "stream",
          "text": [
            "Procesando archivo: 240925_0174.wav\n"
          ]
        },
        {
          "name": "stderr",
          "output_type": "stream",
          "text": [
            "100%|██████████| 111/111 [01:43<00:00,  1.07frames/s]\n"
          ]
        },
        {
          "name": "stdout",
          "output_type": "stream",
          "text": [
            "Procesando archivo: 240925_0167.wav\n"
          ]
        },
        {
          "name": "stderr",
          "output_type": "stream",
          "text": [
            "100%|██████████| 931/931 [01:44<00:00,  8.94frames/s]\n"
          ]
        },
        {
          "name": "stdout",
          "output_type": "stream",
          "text": [
            "Procesando archivo: 240925_0176.wav\n"
          ]
        },
        {
          "name": "stderr",
          "output_type": "stream",
          "text": [
            "100%|██████████| 798/798 [01:45<00:00,  7.56frames/s]\n"
          ]
        },
        {
          "name": "stdout",
          "output_type": "stream",
          "text": [
            "Procesando archivo: 240925_0172.wav\n"
          ]
        },
        {
          "name": "stderr",
          "output_type": "stream",
          "text": [
            "100%|██████████| 236/236 [01:42<00:00,  2.29frames/s]\n"
          ]
        },
        {
          "name": "stdout",
          "output_type": "stream",
          "text": [
            "Procesando archivo: 240925_0175.wav\n"
          ]
        },
        {
          "name": "stderr",
          "output_type": "stream",
          "text": [
            "100%|██████████| 798/798 [01:46<00:00,  7.47frames/s]\n"
          ]
        },
        {
          "name": "stdout",
          "output_type": "stream",
          "text": [
            "Procesando archivo: 240925_0158.wav\n"
          ]
        },
        {
          "name": "stderr",
          "output_type": "stream",
          "text": [
            "100%|██████████| 623/623 [01:45<00:00,  5.92frames/s]\n"
          ]
        },
        {
          "name": "stdout",
          "output_type": "stream",
          "text": [
            "Procesando archivo: 240925_0171.wav\n"
          ]
        },
        {
          "name": "stderr",
          "output_type": "stream",
          "text": [
            "100%|██████████| 811/811 [01:45<00:00,  7.66frames/s]\n"
          ]
        },
        {
          "name": "stdout",
          "output_type": "stream",
          "text": [
            "Procesando archivo: 240925_0173.wav\n"
          ]
        },
        {
          "name": "stderr",
          "output_type": "stream",
          "text": [
            "100%|██████████| 396/396 [01:44<00:00,  3.79frames/s]\n"
          ]
        },
        {
          "name": "stdout",
          "output_type": "stream",
          "text": [
            "Procesando archivo: 240925_0165.wav\n"
          ]
        },
        {
          "name": "stderr",
          "output_type": "stream",
          "text": [
            "100%|██████████| 827/827 [01:45<00:00,  7.85frames/s]\n"
          ]
        },
        {
          "name": "stdout",
          "output_type": "stream",
          "text": [
            "Procesando archivo: 240925_0160.wav\n"
          ]
        },
        {
          "name": "stderr",
          "output_type": "stream",
          "text": [
            "100%|██████████| 673/673 [01:45<00:00,  6.38frames/s]\n"
          ]
        },
        {
          "name": "stdout",
          "output_type": "stream",
          "text": [
            "Procesando archivo: 240925_0157.wav\n"
          ]
        },
        {
          "name": "stderr",
          "output_type": "stream",
          "text": [
            "100%|██████████| 542/542 [01:44<00:00,  5.19frames/s]\n"
          ]
        },
        {
          "name": "stdout",
          "output_type": "stream",
          "text": [
            "Procesando carpeta: VIDEOS\n",
            "Procesando carpeta: M4\n",
            "Procesando archivo: 240924_0070.wav\n"
          ]
        },
        {
          "name": "stderr",
          "output_type": "stream",
          "text": [
            "100%|██████████| 824/824 [01:45<00:00,  7.81frames/s]\n"
          ]
        },
        {
          "name": "stdout",
          "output_type": "stream",
          "text": [
            "Procesando archivo: 240924_0069.wav\n"
          ]
        },
        {
          "name": "stderr",
          "output_type": "stream",
          "text": [
            "100%|██████████| 762/762 [01:44<00:00,  7.30frames/s]\n"
          ]
        },
        {
          "name": "stdout",
          "output_type": "stream",
          "text": [
            "Procesando archivo: 240924_0067.wav\n"
          ]
        },
        {
          "name": "stderr",
          "output_type": "stream",
          "text": [
            "100%|██████████| 769/769 [01:46<00:00,  7.20frames/s]\n"
          ]
        },
        {
          "name": "stdout",
          "output_type": "stream",
          "text": [
            "Procesando archivo: 240924_0071.wav\n"
          ]
        },
        {
          "name": "stderr",
          "output_type": "stream",
          "text": [
            "100%|██████████| 725/725 [01:45<00:00,  6.89frames/s]\n"
          ]
        },
        {
          "name": "stdout",
          "output_type": "stream",
          "text": [
            "Procesando archivo: 240924_0056.wav\n"
          ]
        },
        {
          "name": "stderr",
          "output_type": "stream",
          "text": [
            "100%|██████████| 573/573 [01:43<00:00,  5.51frames/s]\n"
          ]
        },
        {
          "name": "stdout",
          "output_type": "stream",
          "text": [
            "Procesando archivo: 240924_0065.wav\n"
          ]
        },
        {
          "name": "stderr",
          "output_type": "stream",
          "text": [
            "100%|██████████| 816/816 [01:45<00:00,  7.76frames/s]\n"
          ]
        },
        {
          "name": "stdout",
          "output_type": "stream",
          "text": [
            "Procesando archivo: 240924_0063.wav\n"
          ]
        },
        {
          "name": "stderr",
          "output_type": "stream",
          "text": [
            "100%|██████████| 717/717 [01:44<00:00,  6.89frames/s]\n"
          ]
        },
        {
          "name": "stdout",
          "output_type": "stream",
          "text": [
            "Procesando archivo: 240924_0068.wav\n"
          ]
        },
        {
          "name": "stderr",
          "output_type": "stream",
          "text": [
            "100%|██████████| 722/722 [01:45<00:00,  6.85frames/s]\n"
          ]
        },
        {
          "name": "stdout",
          "output_type": "stream",
          "text": [
            "Procesando archivo: 240924_0061.wav\n"
          ]
        },
        {
          "name": "stderr",
          "output_type": "stream",
          "text": [
            "100%|██████████| 866/866 [01:46<00:00,  8.17frames/s]\n"
          ]
        },
        {
          "name": "stdout",
          "output_type": "stream",
          "text": [
            "Procesando archivo: 240924_0058.wav\n"
          ]
        },
        {
          "name": "stderr",
          "output_type": "stream",
          "text": [
            "100%|██████████| 576/576 [01:43<00:00,  5.55frames/s]\n"
          ]
        },
        {
          "name": "stdout",
          "output_type": "stream",
          "text": [
            "Procesando archivo: 240924_0060.wav\n"
          ]
        },
        {
          "name": "stderr",
          "output_type": "stream",
          "text": [
            "100%|██████████| 746/746 [01:45<00:00,  7.09frames/s]\n"
          ]
        },
        {
          "name": "stdout",
          "output_type": "stream",
          "text": [
            "Procesando archivo: 240924_0064.wav\n"
          ]
        },
        {
          "name": "stderr",
          "output_type": "stream",
          "text": [
            "100%|██████████| 746/746 [01:45<00:00,  7.09frames/s]\n"
          ]
        },
        {
          "name": "stdout",
          "output_type": "stream",
          "text": [
            "Procesando archivo: 240924_0059.wav\n"
          ]
        },
        {
          "name": "stderr",
          "output_type": "stream",
          "text": [
            "100%|██████████| 699/699 [01:44<00:00,  6.69frames/s]\n"
          ]
        },
        {
          "name": "stdout",
          "output_type": "stream",
          "text": [
            "Procesando archivo: 240924_0055.wav\n"
          ]
        },
        {
          "name": "stderr",
          "output_type": "stream",
          "text": [
            "100%|██████████| 492/492 [01:46<00:00,  4.63frames/s]\n"
          ]
        },
        {
          "name": "stdout",
          "output_type": "stream",
          "text": [
            "Procesando archivo: 240924_0057.wav\n"
          ]
        },
        {
          "name": "stderr",
          "output_type": "stream",
          "text": [
            "100%|██████████| 715/715 [01:45<00:00,  6.81frames/s]\n"
          ]
        },
        {
          "name": "stdout",
          "output_type": "stream",
          "text": [
            "Procesando archivo: 240924_0062.wav\n"
          ]
        },
        {
          "name": "stderr",
          "output_type": "stream",
          "text": [
            "100%|██████████| 780/780 [01:44<00:00,  7.46frames/s]\n"
          ]
        },
        {
          "name": "stdout",
          "output_type": "stream",
          "text": [
            "Procesando archivo: 240924_0066.wav\n"
          ]
        },
        {
          "name": "stderr",
          "output_type": "stream",
          "text": [
            "100%|██████████| 897/897 [01:45<00:00,  8.50frames/s]\n"
          ]
        },
        {
          "name": "stdout",
          "output_type": "stream",
          "text": [
            "Procesando carpeta: M7\n",
            "Procesando archivo: 240924_0089.wav\n"
          ]
        },
        {
          "name": "stderr",
          "output_type": "stream",
          "text": [
            "100%|██████████| 456/456 [01:50<00:00,  4.13frames/s]\n"
          ]
        },
        {
          "name": "stdout",
          "output_type": "stream",
          "text": [
            "Procesando archivo: 240924_0105.wav\n"
          ]
        },
        {
          "name": "stderr",
          "output_type": "stream",
          "text": [
            "100%|██████████| 660/660 [01:45<00:00,  6.27frames/s]\n"
          ]
        },
        {
          "name": "stdout",
          "output_type": "stream",
          "text": [
            "Procesando archivo: 240924_0099.wav\n"
          ]
        },
        {
          "name": "stderr",
          "output_type": "stream",
          "text": [
            "100%|██████████| 720/720 [01:46<00:00,  6.74frames/s]\n"
          ]
        },
        {
          "name": "stdout",
          "output_type": "stream",
          "text": [
            "Procesando archivo: 240924_0095.wav\n"
          ]
        },
        {
          "name": "stderr",
          "output_type": "stream",
          "text": [
            "100%|██████████| 1153/1153 [01:45<00:00, 10.90frames/s]\n"
          ]
        },
        {
          "name": "stdout",
          "output_type": "stream",
          "text": [
            "Procesando archivo: 240924_0097.wav\n"
          ]
        },
        {
          "name": "stderr",
          "output_type": "stream",
          "text": [
            "100%|██████████| 782/782 [01:44<00:00,  7.45frames/s]\n"
          ]
        },
        {
          "name": "stdout",
          "output_type": "stream",
          "text": [
            "Procesando archivo: 240924_0093.wav\n"
          ]
        },
        {
          "name": "stderr",
          "output_type": "stream",
          "text": [
            "100%|██████████| 683/683 [01:46<00:00,  6.44frames/s]\n"
          ]
        },
        {
          "name": "stdout",
          "output_type": "stream",
          "text": [
            "Procesando archivo: 240924_0096.wav\n"
          ]
        },
        {
          "name": "stderr",
          "output_type": "stream",
          "text": [
            "100%|██████████| 401/401 [01:44<00:00,  3.84frames/s]\n"
          ]
        },
        {
          "name": "stdout",
          "output_type": "stream",
          "text": [
            "Procesando archivo: 240924_0098.wav\n"
          ]
        },
        {
          "name": "stderr",
          "output_type": "stream",
          "text": [
            "100%|██████████| 686/686 [01:45<00:00,  6.49frames/s]\n"
          ]
        },
        {
          "name": "stdout",
          "output_type": "stream",
          "text": [
            "Procesando archivo: 240924_0103.wav\n"
          ]
        },
        {
          "name": "stderr",
          "output_type": "stream",
          "text": [
            "100%|██████████| 712/712 [01:45<00:00,  6.72frames/s]\n"
          ]
        },
        {
          "name": "stdout",
          "output_type": "stream",
          "text": [
            "Procesando archivo: 240924_0090.wav\n"
          ]
        },
        {
          "name": "stderr",
          "output_type": "stream",
          "text": [
            "100%|██████████| 474/474 [01:44<00:00,  4.54frames/s]\n"
          ]
        },
        {
          "name": "stdout",
          "output_type": "stream",
          "text": [
            "Procesando archivo: 240924_0094.wav\n"
          ]
        },
        {
          "name": "stderr",
          "output_type": "stream",
          "text": [
            "100%|██████████| 869/869 [01:46<00:00,  8.19frames/s]\n"
          ]
        },
        {
          "name": "stdout",
          "output_type": "stream",
          "text": [
            "Procesando archivo: 240924_0102.wav\n"
          ]
        },
        {
          "name": "stderr",
          "output_type": "stream",
          "text": [
            "100%|██████████| 649/649 [01:45<00:00,  6.16frames/s]\n"
          ]
        },
        {
          "name": "stdout",
          "output_type": "stream",
          "text": [
            "Procesando archivo: 240924_0092.wav\n"
          ]
        },
        {
          "name": "stderr",
          "output_type": "stream",
          "text": [
            "100%|██████████| 521/521 [01:44<00:00,  4.98frames/s]\n"
          ]
        },
        {
          "name": "stdout",
          "output_type": "stream",
          "text": [
            "Procesando archivo: 240924_0101.wav\n"
          ]
        },
        {
          "name": "stderr",
          "output_type": "stream",
          "text": [
            "100%|██████████| 735/735 [01:45<00:00,  6.97frames/s]\n"
          ]
        },
        {
          "name": "stdout",
          "output_type": "stream",
          "text": [
            "Procesando archivo: 240924_0091.wav\n"
          ]
        },
        {
          "name": "stderr",
          "output_type": "stream",
          "text": [
            "100%|██████████| 558/558 [01:46<00:00,  5.26frames/s]\n"
          ]
        },
        {
          "name": "stdout",
          "output_type": "stream",
          "text": [
            "Procesando archivo: 240924_0100.wav\n"
          ]
        },
        {
          "name": "stderr",
          "output_type": "stream",
          "text": [
            "100%|██████████| 691/691 [01:45<00:00,  6.54frames/s]\n"
          ]
        },
        {
          "name": "stdout",
          "output_type": "stream",
          "text": [
            "Procesando archivo: 240924_0104.wav\n"
          ]
        },
        {
          "name": "stderr",
          "output_type": "stream",
          "text": [
            "100%|██████████| 657/657 [01:45<00:00,  6.22frames/s]\n"
          ]
        },
        {
          "name": "stdout",
          "output_type": "stream",
          "text": [
            "Procesando carpeta: H5\n",
            "Procesando archivo: 240925_0184.wav\n"
          ]
        },
        {
          "name": "stderr",
          "output_type": "stream",
          "text": [
            "100%|██████████| 746/746 [01:45<00:00,  7.10frames/s]\n"
          ]
        },
        {
          "name": "stdout",
          "output_type": "stream",
          "text": [
            "Procesando archivo: 240925_0183.wav\n"
          ]
        },
        {
          "name": "stderr",
          "output_type": "stream",
          "text": [
            "100%|██████████| 746/746 [01:47<00:00,  6.96frames/s]\n"
          ]
        },
        {
          "name": "stdout",
          "output_type": "stream",
          "text": [
            "Procesando archivo: 240925_0192.wav\n"
          ]
        },
        {
          "name": "stderr",
          "output_type": "stream",
          "text": [
            "100%|██████████| 688/688 [01:45<00:00,  6.53frames/s]\n"
          ]
        },
        {
          "name": "stdout",
          "output_type": "stream",
          "text": [
            "Procesando archivo: 240925_0182.wav\n"
          ]
        },
        {
          "name": "stderr",
          "output_type": "stream",
          "text": [
            "100%|██████████| 707/707 [01:44<00:00,  6.78frames/s]\n"
          ]
        },
        {
          "name": "stdout",
          "output_type": "stream",
          "text": [
            "Procesando archivo: 240925_0188.wav\n"
          ]
        },
        {
          "name": "stderr",
          "output_type": "stream",
          "text": [
            "100%|██████████| 675/675 [01:45<00:00,  6.38frames/s]\n"
          ]
        },
        {
          "name": "stdout",
          "output_type": "stream",
          "text": [
            "Procesando archivo: 240925_0187.wav\n"
          ]
        },
        {
          "name": "stderr",
          "output_type": "stream",
          "text": [
            "100%|██████████| 699/699 [01:45<00:00,  6.63frames/s]\n"
          ]
        },
        {
          "name": "stdout",
          "output_type": "stream",
          "text": [
            "Procesando archivo: 240925_0191.wav\n"
          ]
        },
        {
          "name": "stderr",
          "output_type": "stream",
          "text": [
            "100%|██████████| 696/696 [01:45<00:00,  6.62frames/s]\n"
          ]
        },
        {
          "name": "stdout",
          "output_type": "stream",
          "text": [
            "Procesando archivo: 240925_0189.wav\n"
          ]
        },
        {
          "name": "stderr",
          "output_type": "stream",
          "text": [
            "100%|██████████| 615/615 [01:45<00:00,  5.84frames/s]\n"
          ]
        },
        {
          "name": "stdout",
          "output_type": "stream",
          "text": [
            "Procesando archivo: 240925_0186.wav\n"
          ]
        },
        {
          "name": "stderr",
          "output_type": "stream",
          "text": [
            "100%|██████████| 688/688 [01:45<00:00,  6.53frames/s]\n"
          ]
        },
        {
          "name": "stdout",
          "output_type": "stream",
          "text": [
            "Procesando archivo: 240925_0178.wav\n"
          ]
        },
        {
          "name": "stderr",
          "output_type": "stream",
          "text": [
            "100%|██████████| 539/539 [01:46<00:00,  5.06frames/s]\n"
          ]
        },
        {
          "name": "stdout",
          "output_type": "stream",
          "text": [
            "Procesando archivo: 240925_0180.wav\n"
          ]
        },
        {
          "name": "stderr",
          "output_type": "stream",
          "text": [
            "100%|██████████| 649/649 [01:44<00:00,  6.23frames/s]\n"
          ]
        },
        {
          "name": "stdout",
          "output_type": "stream",
          "text": [
            "Procesando archivo: 240925_0190.wav\n"
          ]
        },
        {
          "name": "stderr",
          "output_type": "stream",
          "text": [
            "100%|██████████| 728/728 [01:45<00:00,  6.90frames/s]\n"
          ]
        },
        {
          "name": "stdout",
          "output_type": "stream",
          "text": [
            "Procesando archivo: 240925_0179.wav\n"
          ]
        },
        {
          "name": "stderr",
          "output_type": "stream",
          "text": [
            "100%|██████████| 647/647 [01:45<00:00,  6.11frames/s]\n"
          ]
        },
        {
          "name": "stdout",
          "output_type": "stream",
          "text": [
            "Procesando archivo: 240925_0185.wav\n"
          ]
        },
        {
          "name": "stderr",
          "output_type": "stream",
          "text": [
            "100%|██████████| 644/644 [01:45<00:00,  6.13frames/s]\n"
          ]
        },
        {
          "name": "stdout",
          "output_type": "stream",
          "text": [
            "Procesando archivo: 240925_0181.wav\n"
          ]
        },
        {
          "name": "stderr",
          "output_type": "stream",
          "text": [
            "100%|██████████| 644/644 [01:44<00:00,  6.14frames/s]\n"
          ]
        },
        {
          "name": "stdout",
          "output_type": "stream",
          "text": [
            "Procesando archivo: 240925_0177.wav\n"
          ]
        },
        {
          "name": "stderr",
          "output_type": "stream",
          "text": [
            "100%|██████████| 485/485 [01:44<00:00,  4.66frames/s]\n"
          ]
        },
        {
          "name": "stdout",
          "output_type": "stream",
          "text": [
            "Procesando carpeta: H4\n",
            "Procesando archivo: 240925_0219.wav\n"
          ]
        },
        {
          "name": "stderr",
          "output_type": "stream",
          "text": [
            "100%|██████████| 581/581 [01:45<00:00,  5.52frames/s]\n"
          ]
        },
        {
          "name": "stdout",
          "output_type": "stream",
          "text": [
            "Procesando archivo: 240925_0208.wav\n"
          ]
        },
        {
          "name": "stderr",
          "output_type": "stream",
          "text": [
            "100%|██████████| 571/571 [01:45<00:00,  5.41frames/s]\n"
          ]
        },
        {
          "name": "stdout",
          "output_type": "stream",
          "text": [
            "Procesando archivo: 240925_0218.wav\n"
          ]
        },
        {
          "name": "stderr",
          "output_type": "stream",
          "text": [
            "100%|██████████| 754/754 [01:45<00:00,  7.13frames/s]\n"
          ]
        },
        {
          "name": "stdout",
          "output_type": "stream",
          "text": [
            "Procesando archivo: 240925_0212.wav\n"
          ]
        },
        {
          "name": "stderr",
          "output_type": "stream",
          "text": [
            "100%|██████████| 712/712 [01:44<00:00,  6.80frames/s]\n"
          ]
        },
        {
          "name": "stdout",
          "output_type": "stream",
          "text": [
            "Procesando archivo: 240925_0213.wav\n"
          ]
        },
        {
          "name": "stderr",
          "output_type": "stream",
          "text": [
            "100%|██████████| 722/722 [03:32<00:00,  3.40frames/s]\n"
          ]
        },
        {
          "name": "stdout",
          "output_type": "stream",
          "text": [
            "Procesando archivo: 240925_0215.wav\n"
          ]
        },
        {
          "name": "stderr",
          "output_type": "stream",
          "text": [
            "100%|██████████| 722/722 [01:42<00:00,  7.05frames/s]\n"
          ]
        },
        {
          "name": "stdout",
          "output_type": "stream",
          "text": [
            "Procesando archivo: 240925_0209.wav\n"
          ]
        },
        {
          "name": "stderr",
          "output_type": "stream",
          "text": [
            "100%|██████████| 571/571 [01:43<00:00,  5.54frames/s]\n"
          ]
        },
        {
          "name": "stdout",
          "output_type": "stream",
          "text": [
            "Procesando archivo: 240925_0221.wav\n"
          ]
        },
        {
          "name": "stderr",
          "output_type": "stream",
          "text": [
            "100%|██████████| 688/688 [01:42<00:00,  6.74frames/s]\n"
          ]
        },
        {
          "name": "stdout",
          "output_type": "stream",
          "text": [
            "Procesando archivo: 240925_0222.wav\n"
          ]
        },
        {
          "name": "stderr",
          "output_type": "stream",
          "text": [
            "100%|██████████| 701/701 [01:43<00:00,  6.80frames/s]\n"
          ]
        },
        {
          "name": "stdout",
          "output_type": "stream",
          "text": [
            "Procesando archivo: 240925_0210.wav\n"
          ]
        },
        {
          "name": "stderr",
          "output_type": "stream",
          "text": [
            "100%|██████████| 534/534 [01:41<00:00,  5.26frames/s]\n"
          ]
        },
        {
          "name": "stdout",
          "output_type": "stream",
          "text": [
            "Procesando archivo: 240925_0217.wav\n"
          ]
        },
        {
          "name": "stderr",
          "output_type": "stream",
          "text": [
            "100%|██████████| 759/759 [01:42<00:00,  7.38frames/s]\n"
          ]
        },
        {
          "name": "stdout",
          "output_type": "stream",
          "text": [
            "Procesando archivo: 240925_0207.wav\n"
          ]
        },
        {
          "name": "stderr",
          "output_type": "stream",
          "text": [
            "100%|██████████| 487/487 [01:41<00:00,  4.79frames/s]\n"
          ]
        },
        {
          "name": "stdout",
          "output_type": "stream",
          "text": [
            "Procesando archivo: 240925_0214.wav\n"
          ]
        },
        {
          "name": "stderr",
          "output_type": "stream",
          "text": [
            "100%|██████████| 788/788 [01:42<00:00,  7.66frames/s]\n"
          ]
        },
        {
          "name": "stdout",
          "output_type": "stream",
          "text": [
            "Procesando archivo: 240925_0206.wav\n"
          ]
        },
        {
          "name": "stderr",
          "output_type": "stream",
          "text": [
            "100%|██████████| 485/485 [03:25<00:00,  2.36frames/s]\n"
          ]
        },
        {
          "name": "stdout",
          "output_type": "stream",
          "text": [
            "Procesando archivo: 240925_0211.wav\n"
          ]
        },
        {
          "name": "stderr",
          "output_type": "stream",
          "text": [
            "100%|██████████| 654/654 [01:45<00:00,  6.23frames/s]\n"
          ]
        },
        {
          "name": "stdout",
          "output_type": "stream",
          "text": [
            "Procesando archivo: 240925_0216.wav\n"
          ]
        },
        {
          "name": "stderr",
          "output_type": "stream",
          "text": [
            "100%|██████████| 748/748 [01:44<00:00,  7.18frames/s]\n"
          ]
        },
        {
          "name": "stdout",
          "output_type": "stream",
          "text": [
            "Procesando archivo: 240925_0220.wav\n"
          ]
        },
        {
          "name": "stderr",
          "output_type": "stream",
          "text": [
            "100%|██████████| 675/675 [01:46<00:00,  6.37frames/s]\n"
          ]
        },
        {
          "name": "stdout",
          "output_type": "stream",
          "text": [
            "Procesando carpeta: H6\n",
            "Procesando archivo: 240925_0240.wav\n"
          ]
        },
        {
          "name": "stderr",
          "output_type": "stream",
          "text": [
            "100%|██████████| 597/597 [01:44<00:00,  5.73frames/s]\n"
          ]
        },
        {
          "name": "stdout",
          "output_type": "stream",
          "text": [
            "Procesando archivo: 240925_0256.wav\n"
          ]
        },
        {
          "name": "stderr",
          "output_type": "stream",
          "text": [
            "100%|██████████| 806/806 [01:45<00:00,  7.67frames/s]\n"
          ]
        },
        {
          "name": "stdout",
          "output_type": "stream",
          "text": [
            "Procesando archivo: 240925_0243.wav\n"
          ]
        },
        {
          "name": "stderr",
          "output_type": "stream",
          "text": [
            "100%|██████████| 717/717 [01:44<00:00,  6.89frames/s]\n"
          ]
        },
        {
          "name": "stdout",
          "output_type": "stream",
          "text": [
            "Procesando archivo: 240925_0252.wav\n"
          ]
        },
        {
          "name": "stderr",
          "output_type": "stream",
          "text": [
            "100%|██████████| 743/743 [01:45<00:00,  7.05frames/s]\n"
          ]
        },
        {
          "name": "stdout",
          "output_type": "stream",
          "text": [
            "Procesando archivo: 240925_0250.wav\n"
          ]
        },
        {
          "name": "stderr",
          "output_type": "stream",
          "text": [
            "100%|██████████| 738/738 [01:45<00:00,  7.00frames/s]\n"
          ]
        },
        {
          "name": "stdout",
          "output_type": "stream",
          "text": [
            "Procesando archivo: 240925_0248.wav\n"
          ]
        },
        {
          "name": "stderr",
          "output_type": "stream",
          "text": [
            "100%|██████████| 892/892 [01:44<00:00,  8.51frames/s]\n"
          ]
        },
        {
          "name": "stdout",
          "output_type": "stream",
          "text": [
            "Procesando archivo: 240925_0244.wav\n"
          ]
        },
        {
          "name": "stderr",
          "output_type": "stream",
          "text": [
            "100%|██████████| 780/780 [01:45<00:00,  7.39frames/s]\n"
          ]
        },
        {
          "name": "stdout",
          "output_type": "stream",
          "text": [
            "Procesando archivo: 240925_0251.wav\n"
          ]
        },
        {
          "name": "stderr",
          "output_type": "stream",
          "text": [
            "100%|██████████| 485/485 [01:43<00:00,  4.67frames/s]\n"
          ]
        },
        {
          "name": "stdout",
          "output_type": "stream",
          "text": [
            "Procesando archivo: 240925_0249.wav\n"
          ]
        },
        {
          "name": "stderr",
          "output_type": "stream",
          "text": [
            "100%|██████████| 814/814 [01:45<00:00,  7.70frames/s]\n"
          ]
        },
        {
          "name": "stdout",
          "output_type": "stream",
          "text": [
            "Procesando archivo: 240925_0254.wav\n"
          ]
        },
        {
          "name": "stderr",
          "output_type": "stream",
          "text": [
            "100%|██████████| 856/856 [01:44<00:00,  8.17frames/s]\n"
          ]
        },
        {
          "name": "stdout",
          "output_type": "stream",
          "text": [
            "Procesando archivo: 240925_0242.wav\n"
          ]
        },
        {
          "name": "stderr",
          "output_type": "stream",
          "text": [
            "100%|██████████| 610/610 [01:45<00:00,  5.80frames/s]\n"
          ]
        },
        {
          "name": "stdout",
          "output_type": "stream",
          "text": [
            "Procesando archivo: 240925_0239.wav\n"
          ]
        },
        {
          "name": "stderr",
          "output_type": "stream",
          "text": [
            "100%|██████████| 539/539 [01:44<00:00,  5.18frames/s]\n"
          ]
        },
        {
          "name": "stdout",
          "output_type": "stream",
          "text": [
            "Procesando archivo: 240925_0241.wav\n"
          ]
        },
        {
          "name": "stderr",
          "output_type": "stream",
          "text": [
            "100%|██████████| 678/678 [01:45<00:00,  6.42frames/s]\n"
          ]
        },
        {
          "name": "stdout",
          "output_type": "stream",
          "text": [
            "Procesando archivo: 240925_0246.wav\n"
          ]
        },
        {
          "name": "stderr",
          "output_type": "stream",
          "text": [
            "100%|██████████| 751/751 [01:45<00:00,  7.10frames/s]\n"
          ]
        },
        {
          "name": "stdout",
          "output_type": "stream",
          "text": [
            "Procesando archivo: 240925_0255.wav\n"
          ]
        },
        {
          "name": "stderr",
          "output_type": "stream",
          "text": [
            "100%|██████████| 780/780 [01:45<00:00,  7.42frames/s]\n"
          ]
        },
        {
          "name": "stdout",
          "output_type": "stream",
          "text": [
            "Procesando archivo: 240925_0247.wav\n"
          ]
        },
        {
          "name": "stderr",
          "output_type": "stream",
          "text": [
            "100%|██████████| 715/715 [01:45<00:00,  6.80frames/s]\n"
          ]
        },
        {
          "name": "stdout",
          "output_type": "stream",
          "text": [
            "Procesando archivo: 240925_0245.wav\n"
          ]
        },
        {
          "name": "stderr",
          "output_type": "stream",
          "text": [
            "100%|██████████| 850/850 [01:44<00:00,  8.15frames/s]\n"
          ]
        },
        {
          "name": "stdout",
          "output_type": "stream",
          "text": [
            "Procesando archivo: 240925_0253.wav\n"
          ]
        },
        {
          "name": "stderr",
          "output_type": "stream",
          "text": [
            "100%|██████████| 216/216 [01:43<00:00,  2.08frames/s]\n"
          ]
        },
        {
          "name": "stdout",
          "output_type": "stream",
          "text": [
            "Procesando carpeta: M1\n",
            "Procesando archivo: 240924_0023.wav\n"
          ]
        },
        {
          "name": "stderr",
          "output_type": "stream",
          "text": [
            "100%|██████████| 519/519 [01:44<00:00,  4.95frames/s]\n"
          ]
        },
        {
          "name": "stdout",
          "output_type": "stream",
          "text": [
            "Procesando archivo: 240924_0026.wav\n"
          ]
        },
        {
          "name": "stderr",
          "output_type": "stream",
          "text": [
            "100%|██████████| 691/691 [01:45<00:00,  6.54frames/s]\n"
          ]
        },
        {
          "name": "stdout",
          "output_type": "stream",
          "text": [
            "Procesando archivo: 240924_0028.wav\n"
          ]
        },
        {
          "name": "stderr",
          "output_type": "stream",
          "text": [
            "100%|██████████| 816/816 [01:43<00:00,  7.87frames/s]\n"
          ]
        },
        {
          "name": "stdout",
          "output_type": "stream",
          "text": [
            "Procesando archivo: 240924_0025.wav\n"
          ]
        },
        {
          "name": "stderr",
          "output_type": "stream",
          "text": [
            "100%|██████████| 660/660 [01:45<00:00,  6.26frames/s]\n"
          ]
        },
        {
          "name": "stdout",
          "output_type": "stream",
          "text": [
            "Procesando archivo: 240924_0033.wav\n"
          ]
        },
        {
          "name": "stderr",
          "output_type": "stream",
          "text": [
            "100%|██████████| 790/790 [01:44<00:00,  7.58frames/s]\n"
          ]
        },
        {
          "name": "stdout",
          "output_type": "stream",
          "text": [
            "Procesando archivo: 240924_0036.wav\n"
          ]
        },
        {
          "name": "stderr",
          "output_type": "stream",
          "text": [
            "100%|██████████| 704/704 [01:46<00:00,  6.62frames/s]\n"
          ]
        },
        {
          "name": "stdout",
          "output_type": "stream",
          "text": [
            "Procesando archivo: 240924_0031.wav\n"
          ]
        },
        {
          "name": "stderr",
          "output_type": "stream",
          "text": [
            "100%|██████████| 728/728 [01:43<00:00,  7.01frames/s]\n"
          ]
        },
        {
          "name": "stdout",
          "output_type": "stream",
          "text": [
            "Procesando archivo: 240924_0038.wav\n"
          ]
        },
        {
          "name": "stderr",
          "output_type": "stream",
          "text": [
            "100%|██████████| 704/704 [01:45<00:00,  6.68frames/s]\n"
          ]
        },
        {
          "name": "stdout",
          "output_type": "stream",
          "text": [
            "Procesando archivo: 240924_0032.wav\n"
          ]
        },
        {
          "name": "stderr",
          "output_type": "stream",
          "text": [
            "100%|██████████| 748/748 [01:44<00:00,  7.14frames/s]\n"
          ]
        },
        {
          "name": "stdout",
          "output_type": "stream",
          "text": [
            "Procesando archivo: 240924_0029.wav\n"
          ]
        },
        {
          "name": "stderr",
          "output_type": "stream",
          "text": [
            "100%|██████████| 827/827 [01:45<00:00,  7.82frames/s]\n"
          ]
        },
        {
          "name": "stdout",
          "output_type": "stream",
          "text": [
            "Procesando archivo: 240924_0027.wav\n"
          ]
        },
        {
          "name": "stderr",
          "output_type": "stream",
          "text": [
            "100%|██████████| 691/691 [01:44<00:00,  6.59frames/s]\n"
          ]
        },
        {
          "name": "stdout",
          "output_type": "stream",
          "text": [
            "Procesando archivo: 240924_0034.wav\n"
          ]
        },
        {
          "name": "stderr",
          "output_type": "stream",
          "text": [
            "100%|██████████| 782/782 [01:44<00:00,  7.51frames/s]\n"
          ]
        },
        {
          "name": "stdout",
          "output_type": "stream",
          "text": [
            "Procesando archivo: 240924_0030.wav\n"
          ]
        },
        {
          "name": "stderr",
          "output_type": "stream",
          "text": [
            "100%|██████████| 738/738 [01:45<00:00,  7.00frames/s]\n"
          ]
        },
        {
          "name": "stdout",
          "output_type": "stream",
          "text": [
            "Procesando archivo: 240924_0037.wav\n"
          ]
        },
        {
          "name": "stderr",
          "output_type": "stream",
          "text": [
            "100%|██████████| 722/722 [01:44<00:00,  6.91frames/s]\n"
          ]
        },
        {
          "name": "stdout",
          "output_type": "stream",
          "text": [
            "Procesando archivo: 240924_0024.wav\n"
          ]
        },
        {
          "name": "stderr",
          "output_type": "stream",
          "text": [
            "100%|██████████| 660/660 [01:45<00:00,  6.26frames/s]\n"
          ]
        },
        {
          "name": "stdout",
          "output_type": "stream",
          "text": [
            "Procesando archivo: 240924_0035.wav\n"
          ]
        },
        {
          "name": "stderr",
          "output_type": "stream",
          "text": [
            "100%|██████████| 707/707 [01:43<00:00,  6.83frames/s]\n"
          ]
        },
        {
          "name": "stdout",
          "output_type": "stream",
          "text": [
            "Procesando carpeta: M8\n",
            "Procesando archivo: 240924_0117.wav\n"
          ]
        },
        {
          "name": "stderr",
          "output_type": "stream",
          "text": [
            "100%|██████████| 892/892 [01:45<00:00,  8.45frames/s]\n"
          ]
        },
        {
          "name": "stdout",
          "output_type": "stream",
          "text": [
            "Procesando archivo: 240924_0107.wav\n"
          ]
        },
        {
          "name": "stderr",
          "output_type": "stream",
          "text": [
            "100%|██████████| 618/618 [01:44<00:00,  5.93frames/s]\n"
          ]
        },
        {
          "name": "stdout",
          "output_type": "stream",
          "text": [
            "Procesando archivo: 240924_0112.wav\n"
          ]
        },
        {
          "name": "stderr",
          "output_type": "stream",
          "text": [
            "100%|██████████| 811/811 [01:46<00:00,  7.59frames/s]\n"
          ]
        },
        {
          "name": "stdout",
          "output_type": "stream",
          "text": [
            "Procesando archivo: 240924_0110.wav\n"
          ]
        },
        {
          "name": "stderr",
          "output_type": "stream",
          "text": [
            "100%|██████████| 905/905 [01:43<00:00,  8.72frames/s]\n"
          ]
        },
        {
          "name": "stdout",
          "output_type": "stream",
          "text": [
            "Procesando archivo: 240924_0115.wav\n"
          ]
        },
        {
          "name": "stderr",
          "output_type": "stream",
          "text": [
            "100%|██████████| 777/777 [01:44<00:00,  7.41frames/s]\n"
          ]
        },
        {
          "name": "stdout",
          "output_type": "stream",
          "text": [
            "Procesando archivo: 240924_0116.wav\n"
          ]
        },
        {
          "name": "stderr",
          "output_type": "stream",
          "text": [
            "100%|██████████| 759/759 [01:45<00:00,  7.23frames/s]\n"
          ]
        },
        {
          "name": "stdout",
          "output_type": "stream",
          "text": [
            "Procesando archivo: 240924_0108.wav\n"
          ]
        },
        {
          "name": "stderr",
          "output_type": "stream",
          "text": [
            "100%|██████████| 688/688 [01:43<00:00,  6.62frames/s]\n"
          ]
        },
        {
          "name": "stdout",
          "output_type": "stream",
          "text": [
            "Procesando archivo: 240924_0119.wav\n"
          ]
        },
        {
          "name": "stderr",
          "output_type": "stream",
          "text": [
            "100%|██████████| 738/738 [01:45<00:00,  7.02frames/s]\n"
          ]
        },
        {
          "name": "stdout",
          "output_type": "stream",
          "text": [
            "Procesando archivo: 240924_0114.wav\n"
          ]
        },
        {
          "name": "stderr",
          "output_type": "stream",
          "text": [
            "100%|██████████| 843/843 [01:44<00:00,  8.05frames/s]\n"
          ]
        },
        {
          "name": "stdout",
          "output_type": "stream",
          "text": [
            "Procesando archivo: 240924_0118.wav\n"
          ]
        },
        {
          "name": "stderr",
          "output_type": "stream",
          "text": [
            "100%|██████████| 696/696 [01:44<00:00,  6.66frames/s]\n"
          ]
        },
        {
          "name": "stdout",
          "output_type": "stream",
          "text": [
            "Procesando archivo: 240924_0109.wav\n"
          ]
        },
        {
          "name": "stderr",
          "output_type": "stream",
          "text": [
            "100%|██████████| 691/691 [01:44<00:00,  6.63frames/s]\n"
          ]
        },
        {
          "name": "stdout",
          "output_type": "stream",
          "text": [
            "Procesando archivo: 240924_0106.wav\n"
          ]
        },
        {
          "name": "stderr",
          "output_type": "stream",
          "text": [
            "100%|██████████| 526/526 [01:45<00:00,  5.01frames/s]\n"
          ]
        },
        {
          "name": "stdout",
          "output_type": "stream",
          "text": [
            "Procesando archivo: 240924_0121.wav\n"
          ]
        },
        {
          "name": "stderr",
          "output_type": "stream",
          "text": [
            "100%|██████████| 759/759 [01:44<00:00,  7.29frames/s]\n"
          ]
        },
        {
          "name": "stdout",
          "output_type": "stream",
          "text": [
            "Procesando archivo: 240924_0113.wav\n"
          ]
        },
        {
          "name": "stderr",
          "output_type": "stream",
          "text": [
            "100%|██████████| 863/863 [01:46<00:00,  8.14frames/s]\n"
          ]
        },
        {
          "name": "stdout",
          "output_type": "stream",
          "text": [
            "Procesando archivo: 240924_0120.wav\n"
          ]
        },
        {
          "name": "stderr",
          "output_type": "stream",
          "text": [
            "100%|██████████| 832/832 [01:43<00:00,  8.03frames/s]\n"
          ]
        },
        {
          "name": "stdout",
          "output_type": "stream",
          "text": [
            "Procesando archivo: 240924_0111.wav\n"
          ]
        },
        {
          "name": "stderr",
          "output_type": "stream",
          "text": [
            "100%|██████████| 835/835 [01:44<00:00,  7.96frames/s]\n"
          ]
        },
        {
          "name": "stdout",
          "output_type": "stream",
          "text": [
            "Procesando carpeta: M11\n",
            "Procesando archivo: 240925_0235.wav\n"
          ]
        },
        {
          "name": "stderr",
          "output_type": "stream",
          "text": [
            "100%|██████████| 694/694 [01:43<00:00,  6.69frames/s]\n"
          ]
        },
        {
          "name": "stdout",
          "output_type": "stream",
          "text": [
            "Procesando archivo: 240925_0234.wav\n"
          ]
        },
        {
          "name": "stderr",
          "output_type": "stream",
          "text": [
            "100%|██████████| 840/840 [01:45<00:00,  7.97frames/s]\n"
          ]
        },
        {
          "name": "stdout",
          "output_type": "stream",
          "text": [
            "Procesando archivo: 240925_0237.wav\n"
          ]
        },
        {
          "name": "stderr",
          "output_type": "stream",
          "text": [
            "100%|██████████| 814/814 [01:45<00:00,  7.74frames/s]\n"
          ]
        },
        {
          "name": "stdout",
          "output_type": "stream",
          "text": [
            "Procesando archivo: 240925_0232.wav\n"
          ]
        },
        {
          "name": "stderr",
          "output_type": "stream",
          "text": [
            "100%|██████████| 824/824 [01:45<00:00,  7.84frames/s]\n"
          ]
        },
        {
          "name": "stdout",
          "output_type": "stream",
          "text": [
            "Procesando archivo: 240925_0226.wav\n"
          ]
        },
        {
          "name": "stderr",
          "output_type": "stream",
          "text": [
            "100%|██████████| 746/746 [01:43<00:00,  7.18frames/s]\n"
          ]
        },
        {
          "name": "stdout",
          "output_type": "stream",
          "text": [
            "Procesando archivo: 240925_0225.wav\n"
          ]
        },
        {
          "name": "stderr",
          "output_type": "stream",
          "text": [
            "100%|██████████| 782/782 [01:45<00:00,  7.42frames/s]\n"
          ]
        },
        {
          "name": "stdout",
          "output_type": "stream",
          "text": [
            "Procesando archivo: 240925_0231.wav\n"
          ]
        },
        {
          "name": "stderr",
          "output_type": "stream",
          "text": [
            "100%|██████████| 662/662 [01:43<00:00,  6.39frames/s]\n"
          ]
        },
        {
          "name": "stdout",
          "output_type": "stream",
          "text": [
            "Procesando archivo: 240925_0230.wav\n"
          ]
        },
        {
          "name": "stderr",
          "output_type": "stream",
          "text": [
            "100%|██████████| 735/735 [01:45<00:00,  6.98frames/s]\n"
          ]
        },
        {
          "name": "stdout",
          "output_type": "stream",
          "text": [
            "Procesando archivo: 240925_0233.wav\n"
          ]
        },
        {
          "name": "stderr",
          "output_type": "stream",
          "text": [
            "100%|██████████| 890/890 [01:44<00:00,  8.48frames/s]\n"
          ]
        },
        {
          "name": "stdout",
          "output_type": "stream",
          "text": [
            "Procesando archivo: 240925_0227.wav\n"
          ]
        },
        {
          "name": "stderr",
          "output_type": "stream",
          "text": [
            "100%|██████████| 644/644 [01:43<00:00,  6.21frames/s]\n"
          ]
        },
        {
          "name": "stdout",
          "output_type": "stream",
          "text": [
            "Procesando archivo: 240925_0223.wav\n"
          ]
        },
        {
          "name": "stderr",
          "output_type": "stream",
          "text": [
            "100%|██████████| 529/529 [01:44<00:00,  5.06frames/s]\n"
          ]
        },
        {
          "name": "stdout",
          "output_type": "stream",
          "text": [
            "Procesando archivo: 240925_0224.wav\n"
          ]
        },
        {
          "name": "stderr",
          "output_type": "stream",
          "text": [
            "100%|██████████| 709/709 [01:43<00:00,  6.82frames/s]\n"
          ]
        },
        {
          "name": "stdout",
          "output_type": "stream",
          "text": [
            "Procesando archivo: 240925_0228.wav\n"
          ]
        },
        {
          "name": "stderr",
          "output_type": "stream",
          "text": [
            "100%|██████████| 824/824 [01:45<00:00,  7.81frames/s]\n"
          ]
        },
        {
          "name": "stdout",
          "output_type": "stream",
          "text": [
            "Procesando archivo: 240925_0238.wav\n"
          ]
        },
        {
          "name": "stderr",
          "output_type": "stream",
          "text": [
            "100%|██████████| 730/730 [01:46<00:00,  6.83frames/s]\n"
          ]
        },
        {
          "name": "stdout",
          "output_type": "stream",
          "text": [
            "Procesando archivo: 240925_0229.wav\n"
          ]
        },
        {
          "name": "stderr",
          "output_type": "stream",
          "text": [
            "100%|██████████| 762/762 [01:44<00:00,  7.27frames/s]\n"
          ]
        },
        {
          "name": "stdout",
          "output_type": "stream",
          "text": [
            "Procesando archivo: 240925_0236.wav\n"
          ]
        },
        {
          "name": "stderr",
          "output_type": "stream",
          "text": [
            "100%|██████████| 780/780 [01:43<00:00,  7.52frames/s]\n"
          ]
        },
        {
          "name": "stdout",
          "output_type": "stream",
          "text": [
            "Procesando carpeta: M5\n",
            "Procesando archivo: 240924_0076.wav\n"
          ]
        },
        {
          "name": "stderr",
          "output_type": "stream",
          "text": [
            "100%|██████████| 861/861 [01:44<00:00,  8.22frames/s]\n"
          ]
        },
        {
          "name": "stdout",
          "output_type": "stream",
          "text": [
            "Procesando archivo: 240924_0072.wav\n"
          ]
        },
        {
          "name": "stderr",
          "output_type": "stream",
          "text": [
            "100%|██████████| 498/498 [01:44<00:00,  4.77frames/s]\n"
          ]
        },
        {
          "name": "stdout",
          "output_type": "stream",
          "text": [
            "Procesando archivo: 240924_0078.wav\n"
          ]
        },
        {
          "name": "stderr",
          "output_type": "stream",
          "text": [
            "100%|██████████| 762/762 [01:46<00:00,  7.15frames/s]\n"
          ]
        },
        {
          "name": "stdout",
          "output_type": "stream",
          "text": [
            "Procesando archivo: 240924_0074.wav\n"
          ]
        },
        {
          "name": "stderr",
          "output_type": "stream",
          "text": [
            "100%|██████████| 605/605 [01:44<00:00,  5.80frames/s]\n"
          ]
        },
        {
          "name": "stdout",
          "output_type": "stream",
          "text": [
            "Procesando archivo: 240924_0079.wav\n"
          ]
        },
        {
          "name": "stderr",
          "output_type": "stream",
          "text": [
            "100%|██████████| 675/675 [03:28<00:00,  3.24frames/s]\n"
          ]
        },
        {
          "name": "stdout",
          "output_type": "stream",
          "text": [
            "Procesando archivo: 240924_0084.wav\n"
          ]
        },
        {
          "name": "stderr",
          "output_type": "stream",
          "text": [
            "100%|██████████| 738/738 [01:45<00:00,  6.99frames/s]\n"
          ]
        },
        {
          "name": "stdout",
          "output_type": "stream",
          "text": [
            "Procesando archivo: 240924_0086.wav\n"
          ]
        },
        {
          "name": "stderr",
          "output_type": "stream",
          "text": [
            "100%|██████████| 712/712 [01:43<00:00,  6.86frames/s]\n"
          ]
        },
        {
          "name": "stdout",
          "output_type": "stream",
          "text": [
            "Procesando archivo: 240924_0075.wav\n"
          ]
        },
        {
          "name": "stderr",
          "output_type": "stream",
          "text": [
            "100%|██████████| 560/560 [01:45<00:00,  5.30frames/s]\n"
          ]
        },
        {
          "name": "stdout",
          "output_type": "stream",
          "text": [
            "Procesando archivo: 240924_0081.wav\n"
          ]
        },
        {
          "name": "stderr",
          "output_type": "stream",
          "text": [
            "100%|██████████| 673/673 [01:43<00:00,  6.52frames/s]\n"
          ]
        },
        {
          "name": "stdout",
          "output_type": "stream",
          "text": [
            "Procesando archivo: 240924_0083.wav\n"
          ]
        },
        {
          "name": "stderr",
          "output_type": "stream",
          "text": [
            "100%|██████████| 819/819 [01:44<00:00,  7.82frames/s]\n"
          ]
        },
        {
          "name": "stdout",
          "output_type": "stream",
          "text": [
            "Procesando archivo: 240924_0077.wav\n"
          ]
        },
        {
          "name": "stderr",
          "output_type": "stream",
          "text": [
            "100%|██████████| 289/289 [01:42<00:00,  2.81frames/s]\n"
          ]
        },
        {
          "name": "stdout",
          "output_type": "stream",
          "text": [
            "Procesando archivo: 240924_0082.wav\n"
          ]
        },
        {
          "name": "stderr",
          "output_type": "stream",
          "text": [
            "100%|██████████| 748/748 [01:44<00:00,  7.14frames/s]\n"
          ]
        },
        {
          "name": "stdout",
          "output_type": "stream",
          "text": [
            "Procesando archivo: 240924_0080.wav\n"
          ]
        },
        {
          "name": "stderr",
          "output_type": "stream",
          "text": [
            "100%|██████████| 769/769 [01:44<00:00,  7.39frames/s]\n"
          ]
        },
        {
          "name": "stdout",
          "output_type": "stream",
          "text": [
            "Procesando archivo: 240924_0073.wav\n"
          ]
        },
        {
          "name": "stderr",
          "output_type": "stream",
          "text": [
            "100%|██████████| 607/607 [01:43<00:00,  5.86frames/s]\n"
          ]
        },
        {
          "name": "stdout",
          "output_type": "stream",
          "text": [
            "Procesando archivo: 240924_0087.wav\n"
          ]
        },
        {
          "name": "stderr",
          "output_type": "stream",
          "text": [
            "100%|██████████| 720/720 [01:44<00:00,  6.87frames/s]\n"
          ]
        },
        {
          "name": "stdout",
          "output_type": "stream",
          "text": [
            "Procesando archivo: 240924_0085.wav\n"
          ]
        },
        {
          "name": "stderr",
          "output_type": "stream",
          "text": [
            "100%|██████████| 602/602 [01:45<00:00,  5.71frames/s]\n"
          ]
        },
        {
          "name": "stdout",
          "output_type": "stream",
          "text": [
            "Procesando archivo: 240924_0088.wav\n"
          ]
        },
        {
          "name": "stderr",
          "output_type": "stream",
          "text": [
            "100%|██████████| 707/707 [01:43<00:00,  6.83frames/s]\n"
          ]
        },
        {
          "name": "stdout",
          "output_type": "stream",
          "text": [
            "Procesando carpeta: M9\n",
            "Procesando archivo: 240924_0138.wav\n"
          ]
        },
        {
          "name": "stderr",
          "output_type": "stream",
          "text": [
            "100%|██████████| 788/788 [01:45<00:00,  7.50frames/s]\n"
          ]
        },
        {
          "name": "stdout",
          "output_type": "stream",
          "text": [
            "Procesando archivo: 240924_0126.wav\n"
          ]
        },
        {
          "name": "stderr",
          "output_type": "stream",
          "text": [
            "100%|██████████| 688/688 [01:51<00:00,  6.19frames/s]\n"
          ]
        },
        {
          "name": "stdout",
          "output_type": "stream",
          "text": [
            "Procesando archivo: 240924_0130.wav\n"
          ]
        },
        {
          "name": "stderr",
          "output_type": "stream",
          "text": [
            "100%|██████████| 649/649 [01:45<00:00,  6.14frames/s]\n"
          ]
        },
        {
          "name": "stdout",
          "output_type": "stream",
          "text": [
            "Procesando archivo: 240924_0134.wav\n"
          ]
        },
        {
          "name": "stderr",
          "output_type": "stream",
          "text": [
            "100%|██████████| 618/618 [01:44<00:00,  5.90frames/s]\n"
          ]
        },
        {
          "name": "stdout",
          "output_type": "stream",
          "text": [
            "Procesando archivo: 240924_0123.wav\n"
          ]
        },
        {
          "name": "stderr",
          "output_type": "stream",
          "text": [
            "100%|██████████| 568/568 [01:45<00:00,  5.36frames/s]\n"
          ]
        },
        {
          "name": "stdout",
          "output_type": "stream",
          "text": [
            "Procesando archivo: 240924_0125.wav\n"
          ]
        },
        {
          "name": "stderr",
          "output_type": "stream",
          "text": [
            "100%|██████████| 652/652 [01:45<00:00,  6.17frames/s]\n"
          ]
        },
        {
          "name": "stdout",
          "output_type": "stream",
          "text": [
            "Procesando archivo: 240924_0133.wav\n"
          ]
        },
        {
          "name": "stderr",
          "output_type": "stream",
          "text": [
            "100%|██████████| 811/811 [03:47<00:00,  3.57frames/s]\n"
          ]
        },
        {
          "name": "stdout",
          "output_type": "stream",
          "text": [
            "Procesando archivo: 240924_0122.wav\n"
          ]
        },
        {
          "name": "stderr",
          "output_type": "stream",
          "text": [
            "100%|██████████| 579/579 [01:45<00:00,  5.51frames/s]\n"
          ]
        },
        {
          "name": "stdout",
          "output_type": "stream",
          "text": [
            "Procesando archivo: 240924_0137.wav\n"
          ]
        },
        {
          "name": "stderr",
          "output_type": "stream",
          "text": [
            "100%|██████████| 809/809 [01:44<00:00,  7.72frames/s]\n"
          ]
        },
        {
          "name": "stdout",
          "output_type": "stream",
          "text": [
            "Procesando archivo: 240924_0132.wav\n"
          ]
        },
        {
          "name": "stderr",
          "output_type": "stream",
          "text": [
            "100%|██████████| 777/777 [01:44<00:00,  7.42frames/s]\n"
          ]
        },
        {
          "name": "stdout",
          "output_type": "stream",
          "text": [
            "Procesando archivo: 240924_0136.wav\n"
          ]
        },
        {
          "name": "stderr",
          "output_type": "stream",
          "text": [
            "100%|██████████| 712/712 [01:46<00:00,  6.70frames/s]\n"
          ]
        },
        {
          "name": "stdout",
          "output_type": "stream",
          "text": [
            "Procesando archivo: 240924_0128.wav\n"
          ]
        },
        {
          "name": "stderr",
          "output_type": "stream",
          "text": [
            "100%|██████████| 754/754 [01:44<00:00,  7.19frames/s]\n"
          ]
        },
        {
          "name": "stdout",
          "output_type": "stream",
          "text": [
            "Procesando archivo: 240924_0135.wav\n"
          ]
        },
        {
          "name": "stderr",
          "output_type": "stream",
          "text": [
            "100%|██████████| 699/699 [01:43<00:00,  6.75frames/s]\n"
          ]
        },
        {
          "name": "stdout",
          "output_type": "stream",
          "text": [
            "Procesando archivo: 240924_0127.wav\n"
          ]
        },
        {
          "name": "stderr",
          "output_type": "stream",
          "text": [
            "100%|██████████| 751/751 [01:44<00:00,  7.21frames/s]\n"
          ]
        },
        {
          "name": "stdout",
          "output_type": "stream",
          "text": [
            "Procesando archivo: 240924_0131.wav\n"
          ]
        },
        {
          "name": "stderr",
          "output_type": "stream",
          "text": [
            "100%|██████████| 699/699 [01:43<00:00,  6.76frames/s]\n"
          ]
        },
        {
          "name": "stdout",
          "output_type": "stream",
          "text": [
            "Procesando archivo: 240924_0129.wav\n"
          ]
        },
        {
          "name": "stderr",
          "output_type": "stream",
          "text": [
            "100%|██████████| 762/762 [01:45<00:00,  7.24frames/s]\n"
          ]
        },
        {
          "name": "stdout",
          "output_type": "stream",
          "text": [
            "Procesando archivo: 240924_0124.wav\n"
          ]
        },
        {
          "name": "stderr",
          "output_type": "stream",
          "text": [
            "100%|██████████| 644/644 [01:44<00:00,  6.15frames/s]\n"
          ]
        },
        {
          "name": "stdout",
          "output_type": "stream",
          "text": [
            "Procesando carpeta: H-E1\n",
            "Procesando archivo: 240924_0014.wav\n"
          ]
        },
        {
          "name": "stderr",
          "output_type": "stream",
          "text": [
            "100%|██████████| 678/678 [01:44<00:00,  6.51frames/s]\n"
          ]
        },
        {
          "name": "stdout",
          "output_type": "stream",
          "text": [
            "Procesando archivo: 240924_0023.wav\n"
          ]
        },
        {
          "name": "stderr",
          "output_type": "stream",
          "text": [
            "100%|██████████| 876/876 [01:43<00:00,  8.46frames/s]\n"
          ]
        },
        {
          "name": "stdout",
          "output_type": "stream",
          "text": [
            "Procesando archivo: 240924_0013.wav\n"
          ]
        },
        {
          "name": "stderr",
          "output_type": "stream",
          "text": [
            "100%|██████████| 553/553 [01:45<00:00,  5.23frames/s]\n"
          ]
        },
        {
          "name": "stdout",
          "output_type": "stream",
          "text": [
            "Procesando archivo: 240924_0012.wav\n"
          ]
        },
        {
          "name": "stderr",
          "output_type": "stream",
          "text": [
            "100%|██████████| 751/751 [01:43<00:00,  7.27frames/s]\n"
          ]
        },
        {
          "name": "stdout",
          "output_type": "stream",
          "text": [
            "Procesando archivo: 240924_0021.wav\n"
          ]
        },
        {
          "name": "stderr",
          "output_type": "stream",
          "text": [
            "100%|██████████| 722/722 [01:44<00:00,  6.92frames/s]\n"
          ]
        },
        {
          "name": "stdout",
          "output_type": "stream",
          "text": [
            "Procesando archivo: 240924_0018.wav\n"
          ]
        },
        {
          "name": "stderr",
          "output_type": "stream",
          "text": [
            "100%|██████████| 874/874 [01:49<00:00,  8.00frames/s]\n"
          ]
        },
        {
          "name": "stdout",
          "output_type": "stream",
          "text": [
            "Procesando archivo: 240924_0020.wav\n"
          ]
        },
        {
          "name": "stderr",
          "output_type": "stream",
          "text": [
            "100%|██████████| 850/850 [01:44<00:00,  8.13frames/s]\n"
          ]
        },
        {
          "name": "stdout",
          "output_type": "stream",
          "text": [
            "Procesando archivo: 240924_0015.wav\n"
          ]
        },
        {
          "name": "stderr",
          "output_type": "stream",
          "text": [
            "100%|██████████| 887/887 [01:44<00:00,  8.52frames/s]\n"
          ]
        },
        {
          "name": "stdout",
          "output_type": "stream",
          "text": [
            "Procesando archivo: 240924_0009.wav\n"
          ]
        },
        {
          "name": "stderr",
          "output_type": "stream",
          "text": [
            "100%|██████████| 257/257 [01:44<00:00,  2.45frames/s]\n"
          ]
        },
        {
          "name": "stdout",
          "output_type": "stream",
          "text": [
            "Procesando archivo: 240924_0022.wav\n"
          ]
        },
        {
          "name": "stderr",
          "output_type": "stream",
          "text": [
            "100%|██████████| 908/908 [01:46<00:00,  8.54frames/s]\n"
          ]
        },
        {
          "name": "stdout",
          "output_type": "stream",
          "text": [
            "Procesando archivo: 240924_0011.wav\n"
          ]
        },
        {
          "name": "stderr",
          "output_type": "stream",
          "text": [
            "100%|██████████| 490/490 [01:43<00:00,  4.74frames/s]\n"
          ]
        },
        {
          "name": "stdout",
          "output_type": "stream",
          "text": [
            "Procesando archivo: 240924_0019.wav\n"
          ]
        },
        {
          "name": "stderr",
          "output_type": "stream",
          "text": [
            "100%|██████████| 976/976 [01:44<00:00,  9.33frames/s]\n"
          ]
        },
        {
          "name": "stdout",
          "output_type": "stream",
          "text": [
            "Procesando archivo: 240924_0010.wav\n"
          ]
        },
        {
          "name": "stderr",
          "output_type": "stream",
          "text": [
            "100%|██████████| 393/393 [01:43<00:00,  3.81frames/s]\n"
          ]
        },
        {
          "name": "stdout",
          "output_type": "stream",
          "text": [
            "Procesando archivo: 240924_0017.wav\n"
          ]
        },
        {
          "name": "stderr",
          "output_type": "stream",
          "text": [
            "100%|██████████| 782/782 [01:43<00:00,  7.53frames/s]\n"
          ]
        },
        {
          "name": "stdout",
          "output_type": "stream",
          "text": [
            "Procesando archivo: 240924_0016.wav\n"
          ]
        },
        {
          "name": "stderr",
          "output_type": "stream",
          "text": [
            "100%|██████████| 853/853 [01:43<00:00,  8.24frames/s]\n"
          ]
        },
        {
          "name": "stdout",
          "output_type": "stream",
          "text": [
            "Procesando archivo: 240924_0024.wav\n"
          ]
        },
        {
          "name": "stderr",
          "output_type": "stream",
          "text": [
            "100%|██████████| 989/989 [01:45<00:00,  9.38frames/s]\n"
          ]
        }
      ],
      "source": [
        "base_path = \"PILOTO/ENSAYOS_PILOTO\"\n",
        "output_folder = \"PROCESADOS3\"\n",
        "os.makedirs(output_folder, exist_ok=True)\n",
        "\n",
        "Left = 1000  # 1 segundo en milisegundos\n",
        "conteo_palabras = []\n",
        "frases = [\n",
        "    \"Las llaves estan guardadas en la caja fuerte detras del escritorio\",\n",
        "    \"El aroma del cafe recien hecho me dio la energia para empezar el dia con ganas\",\n",
        "    \"No hay peor sensacion que ver como todo lo que intentas se desmorona poco a poco\",\n",
        "    \"Me sacas de quicio cuando te desentiendes de todo como si no te importara nada\"\n",
        "]\n",
        "\n",
        "initial_prompt = \" \".join(frases)\n",
        "\n",
        "for folder in os.listdir(base_path):\n",
        "    folder_path = os.path.join(base_path, folder)\n",
        "    if os.path.isdir(folder_path):\n",
        "        print(f\"Procesando carpeta: {folder}\")\n",
        "        for file_name in os.listdir(folder_path):\n",
        "            if file_name.endswith('.wav'):\n",
        "                print(f\"Procesando archivo: {file_name}\")\n",
        "                file_path = os.path.join(folder_path, file_name)\n",
        "\n",
        "                audio = AudioSegment.from_wav(file_path)\n",
        "\n",
        "                Right = len(audio) - 1150  # Último segundo del audio\n",
        "                audio = audio[Left:Right] # Quitar los pitidos\n",
        "\n",
        "                #export\n",
        "                audio.export(\"temp.wav\", format=\"wav\")\n",
        "\n",
        "                result = model.transcribe(\n",
        "                  \"temp.wav\",\n",
        "                  language=\"es\",\n",
        "                  verbose=False,\n",
        "                  temperature=0.5,\n",
        "                  word_timestamps=True,\n",
        "                  patience = 2,\n",
        "                  initial_prompt=initial_prompt,\n",
        "                  fp16 = False\n",
        "                )\n",
        "\n",
        "                if result[\"segments\"] == []:\n",
        "                    continue\n",
        "\n",
        "                start_time = result[\"segments\"][0][\"start\"] * 1000 # Convertir a milisegundos\n",
        "                end_time = result[\"segments\"][-1][\"end\"] * 1000 + 250 # Convertir a milisegundos\n",
        "\n",
        "                audio = AudioSegment.from_wav(\"temp.wav\")\n",
        "                audio_recortado = audio[start_time:end_time]\n",
        "\n",
        "                #Remove temp file\n",
        "                os.remove(\"temp.wav\")\n",
        "\n",
        "                file_name = os.path.basename(file_path)\n",
        "                output_path = os.path.join(output_folder, f\"{folder}_{file_name}\")\n",
        "                audio_recortado.export(output_path, format=\"wav\")\n",
        "\n",
        "\n",
        "                #guardar el audio en un diccionario\n",
        "                tupla = (file_name,result['text'])\n",
        "                conteo_palabras.append(tupla)\n"
      ]
    },
    {
      "cell_type": "code",
      "execution_count": null,
      "metadata": {
        "id": "AnkAQqXD_6bh"
      },
      "outputs": [],
      "source": [
        "import shutil\n",
        "shutil.make_archive('/content/PROCESADOS', 'zip', '/content/PROCESADOS')\n",
        "\n",
        "from google.colab import files\n",
        "files.download('/content/PROCESADOS.zip')"
      ]
    },
    {
      "cell_type": "code",
      "execution_count": null,
      "metadata": {
        "colab": {
          "background_save": true
        },
        "id": "9gvwmfGjCg6j",
        "outputId": "e68dd543-24cb-4c24-ff41-1f86c264b164"
      },
      "outputs": [
        {
          "data": {
            "application/javascript": [
              "\n",
              "    async function download(id, filename, size) {\n",
              "      if (!google.colab.kernel.accessAllowed) {\n",
              "        return;\n",
              "      }\n",
              "      const div = document.createElement('div');\n",
              "      const label = document.createElement('label');\n",
              "      label.textContent = `Downloading \"${filename}\": `;\n",
              "      div.appendChild(label);\n",
              "      const progress = document.createElement('progress');\n",
              "      progress.max = size;\n",
              "      div.appendChild(progress);\n",
              "      document.body.appendChild(div);\n",
              "\n",
              "      const buffers = [];\n",
              "      let downloaded = 0;\n",
              "\n",
              "      const channel = await google.colab.kernel.comms.open(id);\n",
              "      // Send a message to notify the kernel that we're ready.\n",
              "      channel.send({})\n",
              "\n",
              "      for await (const message of channel.messages) {\n",
              "        // Send a message to notify the kernel that we're ready.\n",
              "        channel.send({})\n",
              "        if (message.buffers) {\n",
              "          for (const buffer of message.buffers) {\n",
              "            buffers.push(buffer);\n",
              "            downloaded += buffer.byteLength;\n",
              "            progress.value = downloaded;\n",
              "          }\n",
              "        }\n",
              "      }\n",
              "      const blob = new Blob(buffers, {type: 'application/binary'});\n",
              "      const a = document.createElement('a');\n",
              "      a.href = window.URL.createObjectURL(blob);\n",
              "      a.download = filename;\n",
              "      div.appendChild(a);\n",
              "      a.click();\n",
              "      div.remove();\n",
              "    }\n",
              "  "
            ],
            "text/plain": [
              "<IPython.core.display.Javascript object>"
            ]
          },
          "metadata": {},
          "output_type": "display_data"
        },
        {
          "data": {
            "application/javascript": [
              "download(\"download_920dda35-f614-4b97-a557-14b5afb35273\", \"Palabras.npy\", 461792)"
            ],
            "text/plain": [
              "<IPython.core.display.Javascript object>"
            ]
          },
          "metadata": {},
          "output_type": "display_data"
        }
      ],
      "source": [
        "np.save(\"Palabras.npy\", conteo_palabras)  # Guarda la lista en un archivo\n",
        "files.download('/content/Palabras.npy')"
      ]
    },
    {
      "cell_type": "code",
      "execution_count": null,
      "metadata": {
        "id": "xCZ-SxeGAevA"
      },
      "outputs": [],
      "source": [
        "import json\n",
        "from collections import Counter\n",
        "\n",
        "\n",
        "frecuencia = Counter(valor for _, valor in conteo_palabras)\n",
        "\n",
        "print(json.dumps(frecuencia, indent=4, ensure_ascii=False))"
      ]
    }
  ],
  "metadata": {
    "colab": {
      "provenance": []
    },
    "kernelspec": {
      "display_name": "Python 3",
      "name": "python3"
    },
    "language_info": {
      "name": "python"
    }
  },
  "nbformat": 4,
  "nbformat_minor": 0
}